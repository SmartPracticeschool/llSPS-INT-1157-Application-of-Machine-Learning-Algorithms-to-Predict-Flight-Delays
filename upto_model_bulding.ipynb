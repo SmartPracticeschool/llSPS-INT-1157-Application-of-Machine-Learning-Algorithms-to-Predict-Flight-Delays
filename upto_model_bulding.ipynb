{
 "cells": [
  {
   "cell_type": "code",
   "execution_count": 2,
   "metadata": {},
   "outputs": [],
   "source": [
    "import numpy as np\n",
    "import pandas as pd\n",
    "import time\n",
    "import matplotlib.pyplot as plt"
   ]
  },
  {
   "cell_type": "code",
   "execution_count": null,
   "metadata": {},
   "outputs": [],
   "source": [
    "df_use=pd.read_csv('flights.csv')\n",
    "df=df_use.sample(n=300000).copy()\n",
    "del df_use"
   ]
  },
  {
   "cell_type": "code",
   "execution_count": 4,
   "metadata": {},
   "outputs": [
    {
     "data": {
      "text/html": [
       "<div>\n",
       "<style scoped>\n",
       "    .dataframe tbody tr th:only-of-type {\n",
       "        vertical-align: middle;\n",
       "    }\n",
       "\n",
       "    .dataframe tbody tr th {\n",
       "        vertical-align: top;\n",
       "    }\n",
       "\n",
       "    .dataframe thead th {\n",
       "        text-align: right;\n",
       "    }\n",
       "</style>\n",
       "<table border=\"1\" class=\"dataframe\">\n",
       "  <thead>\n",
       "    <tr style=\"text-align: right;\">\n",
       "      <th></th>\n",
       "      <th>YEAR</th>\n",
       "      <th>MONTH</th>\n",
       "      <th>DAY</th>\n",
       "      <th>DAY_OF_WEEK</th>\n",
       "      <th>AIRLINE</th>\n",
       "      <th>FLIGHT_NUMBER</th>\n",
       "      <th>TAIL_NUMBER</th>\n",
       "      <th>ORIGIN_AIRPORT</th>\n",
       "      <th>DESTINATION_AIRPORT</th>\n",
       "      <th>SCHEDULED_DEPARTURE</th>\n",
       "      <th>...</th>\n",
       "      <th>ARRIVAL_TIME</th>\n",
       "      <th>ARRIVAL_DELAY</th>\n",
       "      <th>DIVERTED</th>\n",
       "      <th>CANCELLED</th>\n",
       "      <th>CANCELLATION_REASON</th>\n",
       "      <th>AIR_SYSTEM_DELAY</th>\n",
       "      <th>SECURITY_DELAY</th>\n",
       "      <th>AIRLINE_DELAY</th>\n",
       "      <th>LATE_AIRCRAFT_DELAY</th>\n",
       "      <th>WEATHER_DELAY</th>\n",
       "    </tr>\n",
       "  </thead>\n",
       "  <tbody>\n",
       "    <tr>\n",
       "      <th>284021</th>\n",
       "      <td>2015</td>\n",
       "      <td>1</td>\n",
       "      <td>19</td>\n",
       "      <td>1</td>\n",
       "      <td>OO</td>\n",
       "      <td>7416</td>\n",
       "      <td>N449SW</td>\n",
       "      <td>RHI</td>\n",
       "      <td>MSP</td>\n",
       "      <td>1547</td>\n",
       "      <td>...</td>\n",
       "      <td>1708.0</td>\n",
       "      <td>21.0</td>\n",
       "      <td>0</td>\n",
       "      <td>0</td>\n",
       "      <td>NaN</td>\n",
       "      <td>21.0</td>\n",
       "      <td>0.0</td>\n",
       "      <td>0.0</td>\n",
       "      <td>0.0</td>\n",
       "      <td>0.0</td>\n",
       "    </tr>\n",
       "    <tr>\n",
       "      <th>1179949</th>\n",
       "      <td>2015</td>\n",
       "      <td>3</td>\n",
       "      <td>18</td>\n",
       "      <td>3</td>\n",
       "      <td>WN</td>\n",
       "      <td>215</td>\n",
       "      <td>N392SW</td>\n",
       "      <td>OAK</td>\n",
       "      <td>SAN</td>\n",
       "      <td>1030</td>\n",
       "      <td>...</td>\n",
       "      <td>1206.0</td>\n",
       "      <td>11.0</td>\n",
       "      <td>0</td>\n",
       "      <td>0</td>\n",
       "      <td>NaN</td>\n",
       "      <td>NaN</td>\n",
       "      <td>NaN</td>\n",
       "      <td>NaN</td>\n",
       "      <td>NaN</td>\n",
       "      <td>NaN</td>\n",
       "    </tr>\n",
       "    <tr>\n",
       "      <th>5644237</th>\n",
       "      <td>2015</td>\n",
       "      <td>12</td>\n",
       "      <td>20</td>\n",
       "      <td>7</td>\n",
       "      <td>DL</td>\n",
       "      <td>425</td>\n",
       "      <td>N718TW</td>\n",
       "      <td>JFK</td>\n",
       "      <td>ATL</td>\n",
       "      <td>1535</td>\n",
       "      <td>...</td>\n",
       "      <td>1801.0</td>\n",
       "      <td>-20.0</td>\n",
       "      <td>0</td>\n",
       "      <td>0</td>\n",
       "      <td>NaN</td>\n",
       "      <td>NaN</td>\n",
       "      <td>NaN</td>\n",
       "      <td>NaN</td>\n",
       "      <td>NaN</td>\n",
       "      <td>NaN</td>\n",
       "    </tr>\n",
       "    <tr>\n",
       "      <th>1062072</th>\n",
       "      <td>2015</td>\n",
       "      <td>3</td>\n",
       "      <td>11</td>\n",
       "      <td>3</td>\n",
       "      <td>VX</td>\n",
       "      <td>710</td>\n",
       "      <td>N852VA</td>\n",
       "      <td>SFO</td>\n",
       "      <td>DAL</td>\n",
       "      <td>720</td>\n",
       "      <td>...</td>\n",
       "      <td>1236.0</td>\n",
       "      <td>1.0</td>\n",
       "      <td>0</td>\n",
       "      <td>0</td>\n",
       "      <td>NaN</td>\n",
       "      <td>NaN</td>\n",
       "      <td>NaN</td>\n",
       "      <td>NaN</td>\n",
       "      <td>NaN</td>\n",
       "      <td>NaN</td>\n",
       "    </tr>\n",
       "    <tr>\n",
       "      <th>4645319</th>\n",
       "      <td>2015</td>\n",
       "      <td>10</td>\n",
       "      <td>17</td>\n",
       "      <td>6</td>\n",
       "      <td>WN</td>\n",
       "      <td>3080</td>\n",
       "      <td>N708SW</td>\n",
       "      <td>13495</td>\n",
       "      <td>10397</td>\n",
       "      <td>1045</td>\n",
       "      <td>...</td>\n",
       "      <td>1255.0</td>\n",
       "      <td>-20.0</td>\n",
       "      <td>0</td>\n",
       "      <td>0</td>\n",
       "      <td>NaN</td>\n",
       "      <td>NaN</td>\n",
       "      <td>NaN</td>\n",
       "      <td>NaN</td>\n",
       "      <td>NaN</td>\n",
       "      <td>NaN</td>\n",
       "    </tr>\n",
       "  </tbody>\n",
       "</table>\n",
       "<p>5 rows × 31 columns</p>\n",
       "</div>"
      ],
      "text/plain": [
       "         YEAR  MONTH  DAY  DAY_OF_WEEK AIRLINE  FLIGHT_NUMBER TAIL_NUMBER  \\\n",
       "284021   2015      1   19            1      OO           7416      N449SW   \n",
       "1179949  2015      3   18            3      WN            215      N392SW   \n",
       "5644237  2015     12   20            7      DL            425      N718TW   \n",
       "1062072  2015      3   11            3      VX            710      N852VA   \n",
       "4645319  2015     10   17            6      WN           3080      N708SW   \n",
       "\n",
       "        ORIGIN_AIRPORT DESTINATION_AIRPORT  SCHEDULED_DEPARTURE  ...  \\\n",
       "284021             RHI                 MSP                 1547  ...   \n",
       "1179949            OAK                 SAN                 1030  ...   \n",
       "5644237            JFK                 ATL                 1535  ...   \n",
       "1062072            SFO                 DAL                  720  ...   \n",
       "4645319          13495               10397                 1045  ...   \n",
       "\n",
       "         ARRIVAL_TIME  ARRIVAL_DELAY  DIVERTED  CANCELLED  \\\n",
       "284021         1708.0           21.0         0          0   \n",
       "1179949        1206.0           11.0         0          0   \n",
       "5644237        1801.0          -20.0         0          0   \n",
       "1062072        1236.0            1.0         0          0   \n",
       "4645319        1255.0          -20.0         0          0   \n",
       "\n",
       "         CANCELLATION_REASON  AIR_SYSTEM_DELAY  SECURITY_DELAY  AIRLINE_DELAY  \\\n",
       "284021                   NaN              21.0             0.0            0.0   \n",
       "1179949                  NaN               NaN             NaN            NaN   \n",
       "5644237                  NaN               NaN             NaN            NaN   \n",
       "1062072                  NaN               NaN             NaN            NaN   \n",
       "4645319                  NaN               NaN             NaN            NaN   \n",
       "\n",
       "         LATE_AIRCRAFT_DELAY  WEATHER_DELAY  \n",
       "284021                   0.0            0.0  \n",
       "1179949                  NaN            NaN  \n",
       "5644237                  NaN            NaN  \n",
       "1062072                  NaN            NaN  \n",
       "4645319                  NaN            NaN  \n",
       "\n",
       "[5 rows x 31 columns]"
      ]
     },
     "execution_count": 4,
     "metadata": {},
     "output_type": "execute_result"
    }
   ],
   "source": [
    "df.head()"
   ]
  },
  {
   "cell_type": "code",
   "execution_count": 5,
   "metadata": {},
   "outputs": [
    {
     "data": {
      "text/plain": [
       "DEPARTURE_DELAY\n",
       "-41.0      1\n",
       "-40.0      2\n",
       "-38.0      1\n",
       "-37.0      1\n",
       "-36.0      1\n",
       "          ..\n",
       " 1165.0    1\n",
       " 1184.0    1\n",
       " 1190.0    1\n",
       " 1362.0    1\n",
       " 1429.0    1\n",
       "Length: 600, dtype: int64"
      ]
     },
     "execution_count": 5,
     "metadata": {},
     "output_type": "execute_result"
    }
   ],
   "source": [
    "df.groupby('DEPARTURE_DELAY').size()"
   ]
  },
  {
   "cell_type": "markdown",
   "metadata": {},
   "source": [
    "df['OUTPUT_LABEL']=(df.DEPARTURE_DELAY>=15).astype(int)"
   ]
  },
  {
   "cell_type": "code",
   "execution_count": 6,
   "metadata": {},
   "outputs": [],
   "source": [
    "df['OUTPUT_LABEL']=(df.DEPARTURE_DELAY>0).astype(int)"
   ]
  },
  {
   "cell_type": "code",
   "execution_count": 7,
   "metadata": {},
   "outputs": [],
   "source": [
    "def cal_prevalence(y_actual):\n",
    "    return(sum(y_actual)/len(y_actual))"
   ]
  },
  {
   "cell_type": "code",
   "execution_count": 8,
   "metadata": {},
   "outputs": [
    {
     "name": "stdout",
     "output_type": "stream",
     "text": [
      "Prevalence:0.365\n"
     ]
    }
   ],
   "source": [
    "print('Prevalence:%.3f'%cal_prevalence(df['OUTPUT_LABEL'].values))"
   ]
  },
  {
   "cell_type": "code",
   "execution_count": 9,
   "metadata": {},
   "outputs": [
    {
     "data": {
      "text/html": [
       "<div>\n",
       "<style scoped>\n",
       "    .dataframe tbody tr th:only-of-type {\n",
       "        vertical-align: middle;\n",
       "    }\n",
       "\n",
       "    .dataframe tbody tr th {\n",
       "        vertical-align: top;\n",
       "    }\n",
       "\n",
       "    .dataframe thead th {\n",
       "        text-align: right;\n",
       "    }\n",
       "</style>\n",
       "<table border=\"1\" class=\"dataframe\">\n",
       "  <thead>\n",
       "    <tr style=\"text-align: right;\">\n",
       "      <th></th>\n",
       "      <th>YEAR</th>\n",
       "      <th>MONTH</th>\n",
       "      <th>DAY</th>\n",
       "      <th>DAY_OF_WEEK</th>\n",
       "      <th>AIRLINE</th>\n",
       "      <th>FLIGHT_NUMBER</th>\n",
       "      <th>TAIL_NUMBER</th>\n",
       "      <th>ORIGIN_AIRPORT</th>\n",
       "      <th>DESTINATION_AIRPORT</th>\n",
       "      <th>SCHEDULED_DEPARTURE</th>\n",
       "      <th>...</th>\n",
       "      <th>ARRIVAL_DELAY</th>\n",
       "      <th>DIVERTED</th>\n",
       "      <th>CANCELLED</th>\n",
       "      <th>CANCELLATION_REASON</th>\n",
       "      <th>AIR_SYSTEM_DELAY</th>\n",
       "      <th>SECURITY_DELAY</th>\n",
       "      <th>AIRLINE_DELAY</th>\n",
       "      <th>LATE_AIRCRAFT_DELAY</th>\n",
       "      <th>WEATHER_DELAY</th>\n",
       "      <th>OUTPUT_LABEL</th>\n",
       "    </tr>\n",
       "  </thead>\n",
       "  <tbody>\n",
       "    <tr>\n",
       "      <th>284021</th>\n",
       "      <td>2015</td>\n",
       "      <td>1</td>\n",
       "      <td>19</td>\n",
       "      <td>1</td>\n",
       "      <td>OO</td>\n",
       "      <td>7416</td>\n",
       "      <td>N449SW</td>\n",
       "      <td>RHI</td>\n",
       "      <td>MSP</td>\n",
       "      <td>1547</td>\n",
       "      <td>...</td>\n",
       "      <td>21.0</td>\n",
       "      <td>0</td>\n",
       "      <td>0</td>\n",
       "      <td>NaN</td>\n",
       "      <td>21.0</td>\n",
       "      <td>0.0</td>\n",
       "      <td>0.0</td>\n",
       "      <td>0.0</td>\n",
       "      <td>0.0</td>\n",
       "      <td>0</td>\n",
       "    </tr>\n",
       "    <tr>\n",
       "      <th>1179949</th>\n",
       "      <td>2015</td>\n",
       "      <td>3</td>\n",
       "      <td>18</td>\n",
       "      <td>3</td>\n",
       "      <td>WN</td>\n",
       "      <td>215</td>\n",
       "      <td>N392SW</td>\n",
       "      <td>OAK</td>\n",
       "      <td>SAN</td>\n",
       "      <td>1030</td>\n",
       "      <td>...</td>\n",
       "      <td>11.0</td>\n",
       "      <td>0</td>\n",
       "      <td>0</td>\n",
       "      <td>NaN</td>\n",
       "      <td>NaN</td>\n",
       "      <td>NaN</td>\n",
       "      <td>NaN</td>\n",
       "      <td>NaN</td>\n",
       "      <td>NaN</td>\n",
       "      <td>1</td>\n",
       "    </tr>\n",
       "    <tr>\n",
       "      <th>5644237</th>\n",
       "      <td>2015</td>\n",
       "      <td>12</td>\n",
       "      <td>20</td>\n",
       "      <td>7</td>\n",
       "      <td>DL</td>\n",
       "      <td>425</td>\n",
       "      <td>N718TW</td>\n",
       "      <td>JFK</td>\n",
       "      <td>ATL</td>\n",
       "      <td>1535</td>\n",
       "      <td>...</td>\n",
       "      <td>-20.0</td>\n",
       "      <td>0</td>\n",
       "      <td>0</td>\n",
       "      <td>NaN</td>\n",
       "      <td>NaN</td>\n",
       "      <td>NaN</td>\n",
       "      <td>NaN</td>\n",
       "      <td>NaN</td>\n",
       "      <td>NaN</td>\n",
       "      <td>0</td>\n",
       "    </tr>\n",
       "    <tr>\n",
       "      <th>1062072</th>\n",
       "      <td>2015</td>\n",
       "      <td>3</td>\n",
       "      <td>11</td>\n",
       "      <td>3</td>\n",
       "      <td>VX</td>\n",
       "      <td>710</td>\n",
       "      <td>N852VA</td>\n",
       "      <td>SFO</td>\n",
       "      <td>DAL</td>\n",
       "      <td>720</td>\n",
       "      <td>...</td>\n",
       "      <td>1.0</td>\n",
       "      <td>0</td>\n",
       "      <td>0</td>\n",
       "      <td>NaN</td>\n",
       "      <td>NaN</td>\n",
       "      <td>NaN</td>\n",
       "      <td>NaN</td>\n",
       "      <td>NaN</td>\n",
       "      <td>NaN</td>\n",
       "      <td>0</td>\n",
       "    </tr>\n",
       "    <tr>\n",
       "      <th>4645319</th>\n",
       "      <td>2015</td>\n",
       "      <td>10</td>\n",
       "      <td>17</td>\n",
       "      <td>6</td>\n",
       "      <td>WN</td>\n",
       "      <td>3080</td>\n",
       "      <td>N708SW</td>\n",
       "      <td>13495</td>\n",
       "      <td>10397</td>\n",
       "      <td>1045</td>\n",
       "      <td>...</td>\n",
       "      <td>-20.0</td>\n",
       "      <td>0</td>\n",
       "      <td>0</td>\n",
       "      <td>NaN</td>\n",
       "      <td>NaN</td>\n",
       "      <td>NaN</td>\n",
       "      <td>NaN</td>\n",
       "      <td>NaN</td>\n",
       "      <td>NaN</td>\n",
       "      <td>0</td>\n",
       "    </tr>\n",
       "  </tbody>\n",
       "</table>\n",
       "<p>5 rows × 32 columns</p>\n",
       "</div>"
      ],
      "text/plain": [
       "         YEAR  MONTH  DAY  DAY_OF_WEEK AIRLINE  FLIGHT_NUMBER TAIL_NUMBER  \\\n",
       "284021   2015      1   19            1      OO           7416      N449SW   \n",
       "1179949  2015      3   18            3      WN            215      N392SW   \n",
       "5644237  2015     12   20            7      DL            425      N718TW   \n",
       "1062072  2015      3   11            3      VX            710      N852VA   \n",
       "4645319  2015     10   17            6      WN           3080      N708SW   \n",
       "\n",
       "        ORIGIN_AIRPORT DESTINATION_AIRPORT  SCHEDULED_DEPARTURE  ...  \\\n",
       "284021             RHI                 MSP                 1547  ...   \n",
       "1179949            OAK                 SAN                 1030  ...   \n",
       "5644237            JFK                 ATL                 1535  ...   \n",
       "1062072            SFO                 DAL                  720  ...   \n",
       "4645319          13495               10397                 1045  ...   \n",
       "\n",
       "         ARRIVAL_DELAY  DIVERTED  CANCELLED  CANCELLATION_REASON  \\\n",
       "284021            21.0         0          0                  NaN   \n",
       "1179949           11.0         0          0                  NaN   \n",
       "5644237          -20.0         0          0                  NaN   \n",
       "1062072            1.0         0          0                  NaN   \n",
       "4645319          -20.0         0          0                  NaN   \n",
       "\n",
       "         AIR_SYSTEM_DELAY  SECURITY_DELAY  AIRLINE_DELAY  LATE_AIRCRAFT_DELAY  \\\n",
       "284021               21.0             0.0            0.0                  0.0   \n",
       "1179949               NaN             NaN            NaN                  NaN   \n",
       "5644237               NaN             NaN            NaN                  NaN   \n",
       "1062072               NaN             NaN            NaN                  NaN   \n",
       "4645319               NaN             NaN            NaN                  NaN   \n",
       "\n",
       "         WEATHER_DELAY  OUTPUT_LABEL  \n",
       "284021             0.0             0  \n",
       "1179949            NaN             1  \n",
       "5644237            NaN             0  \n",
       "1062072            NaN             0  \n",
       "4645319            NaN             0  \n",
       "\n",
       "[5 rows x 32 columns]"
      ]
     },
     "execution_count": 9,
     "metadata": {},
     "output_type": "execute_result"
    }
   ],
   "source": [
    "df.head()"
   ]
  },
  {
   "cell_type": "code",
   "execution_count": 10,
   "metadata": {},
   "outputs": [
    {
     "data": {
      "text/html": [
       "<div>\n",
       "<style scoped>\n",
       "    .dataframe tbody tr th:only-of-type {\n",
       "        vertical-align: middle;\n",
       "    }\n",
       "\n",
       "    .dataframe tbody tr th {\n",
       "        vertical-align: top;\n",
       "    }\n",
       "\n",
       "    .dataframe thead th {\n",
       "        text-align: right;\n",
       "    }\n",
       "</style>\n",
       "<table border=\"1\" class=\"dataframe\">\n",
       "  <thead>\n",
       "    <tr style=\"text-align: right;\">\n",
       "      <th></th>\n",
       "      <th>IATA_CODE</th>\n",
       "      <th>AIRPORT</th>\n",
       "      <th>CITY</th>\n",
       "      <th>STATE</th>\n",
       "      <th>COUNTRY</th>\n",
       "      <th>LATITUDE</th>\n",
       "      <th>LONGITUDE</th>\n",
       "    </tr>\n",
       "  </thead>\n",
       "  <tbody>\n",
       "    <tr>\n",
       "      <th>0</th>\n",
       "      <td>ABE</td>\n",
       "      <td>Lehigh Valley International Airport</td>\n",
       "      <td>Allentown</td>\n",
       "      <td>PA</td>\n",
       "      <td>USA</td>\n",
       "      <td>40.65236</td>\n",
       "      <td>-75.44040</td>\n",
       "    </tr>\n",
       "    <tr>\n",
       "      <th>1</th>\n",
       "      <td>ABI</td>\n",
       "      <td>Abilene Regional Airport</td>\n",
       "      <td>Abilene</td>\n",
       "      <td>TX</td>\n",
       "      <td>USA</td>\n",
       "      <td>32.41132</td>\n",
       "      <td>-99.68190</td>\n",
       "    </tr>\n",
       "    <tr>\n",
       "      <th>2</th>\n",
       "      <td>ABQ</td>\n",
       "      <td>Albuquerque International Sunport</td>\n",
       "      <td>Albuquerque</td>\n",
       "      <td>NM</td>\n",
       "      <td>USA</td>\n",
       "      <td>35.04022</td>\n",
       "      <td>-106.60919</td>\n",
       "    </tr>\n",
       "    <tr>\n",
       "      <th>3</th>\n",
       "      <td>ABR</td>\n",
       "      <td>Aberdeen Regional Airport</td>\n",
       "      <td>Aberdeen</td>\n",
       "      <td>SD</td>\n",
       "      <td>USA</td>\n",
       "      <td>45.44906</td>\n",
       "      <td>-98.42183</td>\n",
       "    </tr>\n",
       "    <tr>\n",
       "      <th>4</th>\n",
       "      <td>ABY</td>\n",
       "      <td>Southwest Georgia Regional Airport</td>\n",
       "      <td>Albany</td>\n",
       "      <td>GA</td>\n",
       "      <td>USA</td>\n",
       "      <td>31.53552</td>\n",
       "      <td>-84.19447</td>\n",
       "    </tr>\n",
       "  </tbody>\n",
       "</table>\n",
       "</div>"
      ],
      "text/plain": [
       "  IATA_CODE                              AIRPORT         CITY STATE COUNTRY  \\\n",
       "0       ABE  Lehigh Valley International Airport    Allentown    PA     USA   \n",
       "1       ABI             Abilene Regional Airport      Abilene    TX     USA   \n",
       "2       ABQ    Albuquerque International Sunport  Albuquerque    NM     USA   \n",
       "3       ABR            Aberdeen Regional Airport     Aberdeen    SD     USA   \n",
       "4       ABY   Southwest Georgia Regional Airport       Albany    GA     USA   \n",
       "\n",
       "   LATITUDE  LONGITUDE  \n",
       "0  40.65236  -75.44040  \n",
       "1  32.41132  -99.68190  \n",
       "2  35.04022 -106.60919  \n",
       "3  45.44906  -98.42183  \n",
       "4  31.53552  -84.19447  "
      ]
     },
     "execution_count": 10,
     "metadata": {},
     "output_type": "execute_result"
    }
   ],
   "source": [
    "df_airports=pd.read_csv('airports.csv')\n",
    "df_airports.head()"
   ]
  },
  {
   "cell_type": "code",
   "execution_count": 11,
   "metadata": {},
   "outputs": [],
   "source": [
    "df.loc[~df.ORIGIN_AIRPORT.isin(df_airports.IATA_CODE.values),'ORIGIN_AIRPORT']='OTHERS'\n",
    "df.loc[~df.DESTINATION_AIRPORT.isin(df_airports.IATA_CODE.values),'DESTINATION_AIRPORT']='OTHERS'"
   ]
  },
  {
   "cell_type": "code",
   "execution_count": 12,
   "metadata": {},
   "outputs": [
    {
     "data": {
      "text/html": [
       "<div>\n",
       "<style scoped>\n",
       "    .dataframe tbody tr th:only-of-type {\n",
       "        vertical-align: middle;\n",
       "    }\n",
       "\n",
       "    .dataframe tbody tr th {\n",
       "        vertical-align: top;\n",
       "    }\n",
       "\n",
       "    .dataframe thead th {\n",
       "        text-align: right;\n",
       "    }\n",
       "</style>\n",
       "<table border=\"1\" class=\"dataframe\">\n",
       "  <thead>\n",
       "    <tr style=\"text-align: right;\">\n",
       "      <th></th>\n",
       "      <th>MONTH</th>\n",
       "      <th>DAY</th>\n",
       "      <th>DAY_OF_WEEK</th>\n",
       "      <th>AIRLINE</th>\n",
       "      <th>ORIGIN_AIRPORT</th>\n",
       "      <th>DESTINATION_AIRPORT</th>\n",
       "      <th>SCHEDULED_DEPARTURE</th>\n",
       "      <th>DEPARTURE_TIME</th>\n",
       "      <th>DEPARTURE_DELAY</th>\n",
       "      <th>SCHEDULED_TIME</th>\n",
       "      <th>ELAPSED_TIME</th>\n",
       "      <th>DISTANCE</th>\n",
       "      <th>SCHEDULED_ARRIVAL</th>\n",
       "      <th>ARRIVAL_TIME</th>\n",
       "      <th>ARRIVAL_DELAY</th>\n",
       "      <th>CANCELLED</th>\n",
       "      <th>OUTPUT_LABEL</th>\n",
       "    </tr>\n",
       "  </thead>\n",
       "  <tbody>\n",
       "    <tr>\n",
       "      <th>284021</th>\n",
       "      <td>1</td>\n",
       "      <td>19</td>\n",
       "      <td>1</td>\n",
       "      <td>OO</td>\n",
       "      <td>RHI</td>\n",
       "      <td>MSP</td>\n",
       "      <td>1547</td>\n",
       "      <td>1540.0</td>\n",
       "      <td>-7.0</td>\n",
       "      <td>60.0</td>\n",
       "      <td>88.0</td>\n",
       "      <td>190</td>\n",
       "      <td>1647</td>\n",
       "      <td>1708.0</td>\n",
       "      <td>21.0</td>\n",
       "      <td>0</td>\n",
       "      <td>0</td>\n",
       "    </tr>\n",
       "    <tr>\n",
       "      <th>1179949</th>\n",
       "      <td>3</td>\n",
       "      <td>18</td>\n",
       "      <td>3</td>\n",
       "      <td>WN</td>\n",
       "      <td>OAK</td>\n",
       "      <td>SAN</td>\n",
       "      <td>1030</td>\n",
       "      <td>1037.0</td>\n",
       "      <td>7.0</td>\n",
       "      <td>85.0</td>\n",
       "      <td>89.0</td>\n",
       "      <td>446</td>\n",
       "      <td>1155</td>\n",
       "      <td>1206.0</td>\n",
       "      <td>11.0</td>\n",
       "      <td>0</td>\n",
       "      <td>1</td>\n",
       "    </tr>\n",
       "    <tr>\n",
       "      <th>5644237</th>\n",
       "      <td>12</td>\n",
       "      <td>20</td>\n",
       "      <td>7</td>\n",
       "      <td>DL</td>\n",
       "      <td>JFK</td>\n",
       "      <td>ATL</td>\n",
       "      <td>1535</td>\n",
       "      <td>1532.0</td>\n",
       "      <td>-3.0</td>\n",
       "      <td>166.0</td>\n",
       "      <td>149.0</td>\n",
       "      <td>760</td>\n",
       "      <td>1821</td>\n",
       "      <td>1801.0</td>\n",
       "      <td>-20.0</td>\n",
       "      <td>0</td>\n",
       "      <td>0</td>\n",
       "    </tr>\n",
       "    <tr>\n",
       "      <th>1062072</th>\n",
       "      <td>3</td>\n",
       "      <td>11</td>\n",
       "      <td>3</td>\n",
       "      <td>VX</td>\n",
       "      <td>SFO</td>\n",
       "      <td>DAL</td>\n",
       "      <td>720</td>\n",
       "      <td>720.0</td>\n",
       "      <td>0.0</td>\n",
       "      <td>195.0</td>\n",
       "      <td>196.0</td>\n",
       "      <td>1476</td>\n",
       "      <td>1235</td>\n",
       "      <td>1236.0</td>\n",
       "      <td>1.0</td>\n",
       "      <td>0</td>\n",
       "      <td>0</td>\n",
       "    </tr>\n",
       "    <tr>\n",
       "      <th>4645319</th>\n",
       "      <td>10</td>\n",
       "      <td>17</td>\n",
       "      <td>6</td>\n",
       "      <td>WN</td>\n",
       "      <td>OTHERS</td>\n",
       "      <td>OTHERS</td>\n",
       "      <td>1045</td>\n",
       "      <td>1042.0</td>\n",
       "      <td>-3.0</td>\n",
       "      <td>90.0</td>\n",
       "      <td>73.0</td>\n",
       "      <td>425</td>\n",
       "      <td>1315</td>\n",
       "      <td>1255.0</td>\n",
       "      <td>-20.0</td>\n",
       "      <td>0</td>\n",
       "      <td>0</td>\n",
       "    </tr>\n",
       "    <tr>\n",
       "      <th>...</th>\n",
       "      <td>...</td>\n",
       "      <td>...</td>\n",
       "      <td>...</td>\n",
       "      <td>...</td>\n",
       "      <td>...</td>\n",
       "      <td>...</td>\n",
       "      <td>...</td>\n",
       "      <td>...</td>\n",
       "      <td>...</td>\n",
       "      <td>...</td>\n",
       "      <td>...</td>\n",
       "      <td>...</td>\n",
       "      <td>...</td>\n",
       "      <td>...</td>\n",
       "      <td>...</td>\n",
       "      <td>...</td>\n",
       "      <td>...</td>\n",
       "    </tr>\n",
       "    <tr>\n",
       "      <th>540845</th>\n",
       "      <td>2</td>\n",
       "      <td>5</td>\n",
       "      <td>4</td>\n",
       "      <td>F9</td>\n",
       "      <td>SLC</td>\n",
       "      <td>DEN</td>\n",
       "      <td>1610</td>\n",
       "      <td>1615.0</td>\n",
       "      <td>5.0</td>\n",
       "      <td>78.0</td>\n",
       "      <td>73.0</td>\n",
       "      <td>391</td>\n",
       "      <td>1728</td>\n",
       "      <td>1728.0</td>\n",
       "      <td>0.0</td>\n",
       "      <td>0</td>\n",
       "      <td>1</td>\n",
       "    </tr>\n",
       "    <tr>\n",
       "      <th>1754363</th>\n",
       "      <td>4</td>\n",
       "      <td>22</td>\n",
       "      <td>3</td>\n",
       "      <td>OO</td>\n",
       "      <td>SLC</td>\n",
       "      <td>SMF</td>\n",
       "      <td>1707</td>\n",
       "      <td>1701.0</td>\n",
       "      <td>-6.0</td>\n",
       "      <td>108.0</td>\n",
       "      <td>106.0</td>\n",
       "      <td>532</td>\n",
       "      <td>1755</td>\n",
       "      <td>1747.0</td>\n",
       "      <td>-8.0</td>\n",
       "      <td>0</td>\n",
       "      <td>0</td>\n",
       "    </tr>\n",
       "    <tr>\n",
       "      <th>1907238</th>\n",
       "      <td>5</td>\n",
       "      <td>2</td>\n",
       "      <td>6</td>\n",
       "      <td>MQ</td>\n",
       "      <td>ELP</td>\n",
       "      <td>ORD</td>\n",
       "      <td>715</td>\n",
       "      <td>721.0</td>\n",
       "      <td>6.0</td>\n",
       "      <td>184.0</td>\n",
       "      <td>163.0</td>\n",
       "      <td>1236</td>\n",
       "      <td>1119</td>\n",
       "      <td>1104.0</td>\n",
       "      <td>-15.0</td>\n",
       "      <td>0</td>\n",
       "      <td>1</td>\n",
       "    </tr>\n",
       "    <tr>\n",
       "      <th>4609849</th>\n",
       "      <td>10</td>\n",
       "      <td>15</td>\n",
       "      <td>4</td>\n",
       "      <td>WN</td>\n",
       "      <td>OTHERS</td>\n",
       "      <td>OTHERS</td>\n",
       "      <td>735</td>\n",
       "      <td>759.0</td>\n",
       "      <td>24.0</td>\n",
       "      <td>75.0</td>\n",
       "      <td>68.0</td>\n",
       "      <td>289</td>\n",
       "      <td>850</td>\n",
       "      <td>907.0</td>\n",
       "      <td>17.0</td>\n",
       "      <td>0</td>\n",
       "      <td>1</td>\n",
       "    </tr>\n",
       "    <tr>\n",
       "      <th>5495630</th>\n",
       "      <td>12</td>\n",
       "      <td>11</td>\n",
       "      <td>5</td>\n",
       "      <td>WN</td>\n",
       "      <td>CLE</td>\n",
       "      <td>MDW</td>\n",
       "      <td>600</td>\n",
       "      <td>558.0</td>\n",
       "      <td>-2.0</td>\n",
       "      <td>95.0</td>\n",
       "      <td>79.0</td>\n",
       "      <td>307</td>\n",
       "      <td>635</td>\n",
       "      <td>617.0</td>\n",
       "      <td>-18.0</td>\n",
       "      <td>0</td>\n",
       "      <td>0</td>\n",
       "    </tr>\n",
       "  </tbody>\n",
       "</table>\n",
       "<p>300000 rows × 17 columns</p>\n",
       "</div>"
      ],
      "text/plain": [
       "         MONTH  DAY  DAY_OF_WEEK AIRLINE ORIGIN_AIRPORT DESTINATION_AIRPORT  \\\n",
       "284021       1   19            1      OO            RHI                 MSP   \n",
       "1179949      3   18            3      WN            OAK                 SAN   \n",
       "5644237     12   20            7      DL            JFK                 ATL   \n",
       "1062072      3   11            3      VX            SFO                 DAL   \n",
       "4645319     10   17            6      WN         OTHERS              OTHERS   \n",
       "...        ...  ...          ...     ...            ...                 ...   \n",
       "540845       2    5            4      F9            SLC                 DEN   \n",
       "1754363      4   22            3      OO            SLC                 SMF   \n",
       "1907238      5    2            6      MQ            ELP                 ORD   \n",
       "4609849     10   15            4      WN         OTHERS              OTHERS   \n",
       "5495630     12   11            5      WN            CLE                 MDW   \n",
       "\n",
       "         SCHEDULED_DEPARTURE  DEPARTURE_TIME  DEPARTURE_DELAY  SCHEDULED_TIME  \\\n",
       "284021                  1547          1540.0             -7.0            60.0   \n",
       "1179949                 1030          1037.0              7.0            85.0   \n",
       "5644237                 1535          1532.0             -3.0           166.0   \n",
       "1062072                  720           720.0              0.0           195.0   \n",
       "4645319                 1045          1042.0             -3.0            90.0   \n",
       "...                      ...             ...              ...             ...   \n",
       "540845                  1610          1615.0              5.0            78.0   \n",
       "1754363                 1707          1701.0             -6.0           108.0   \n",
       "1907238                  715           721.0              6.0           184.0   \n",
       "4609849                  735           759.0             24.0            75.0   \n",
       "5495630                  600           558.0             -2.0            95.0   \n",
       "\n",
       "         ELAPSED_TIME  DISTANCE  SCHEDULED_ARRIVAL  ARRIVAL_TIME  \\\n",
       "284021           88.0       190               1647        1708.0   \n",
       "1179949          89.0       446               1155        1206.0   \n",
       "5644237         149.0       760               1821        1801.0   \n",
       "1062072         196.0      1476               1235        1236.0   \n",
       "4645319          73.0       425               1315        1255.0   \n",
       "...               ...       ...                ...           ...   \n",
       "540845           73.0       391               1728        1728.0   \n",
       "1754363         106.0       532               1755        1747.0   \n",
       "1907238         163.0      1236               1119        1104.0   \n",
       "4609849          68.0       289                850         907.0   \n",
       "5495630          79.0       307                635         617.0   \n",
       "\n",
       "         ARRIVAL_DELAY  CANCELLED  OUTPUT_LABEL  \n",
       "284021            21.0          0             0  \n",
       "1179949           11.0          0             1  \n",
       "5644237          -20.0          0             0  \n",
       "1062072            1.0          0             0  \n",
       "4645319          -20.0          0             0  \n",
       "...                ...        ...           ...  \n",
       "540845             0.0          0             1  \n",
       "1754363           -8.0          0             0  \n",
       "1907238          -15.0          0             1  \n",
       "4609849           17.0          0             1  \n",
       "5495630          -18.0          0             0  \n",
       "\n",
       "[300000 rows x 17 columns]"
      ]
     },
     "execution_count": 12,
     "metadata": {},
     "output_type": "execute_result"
    }
   ],
   "source": [
    "df.drop(columns=['TAXI_OUT', 'TAXI_IN', 'WHEELS_ON', 'WHEELS_OFF', 'YEAR',  'AIR_SYSTEM_DELAY',\n",
    "                       'SECURITY_DELAY', 'AIRLINE_DELAY', 'LATE_AIRCRAFT_DELAY',\n",
    "                       'WEATHER_DELAY', 'DIVERTED', 'CANCELLATION_REASON',\n",
    "                       'FLIGHT_NUMBER', 'TAIL_NUMBER', 'AIR_TIME'])"
   ]
  },
  {
   "cell_type": "code",
   "execution_count": 13,
   "metadata": {},
   "outputs": [],
   "source": [
    "df['AIRLINE'].replace(['UA','AA','US','F9','B6','OO','AS','NK','WN','DL','EV','HA','MQ','VX'],[0,1,2,3,4,5,6,7,8,9,10,11,12,13],inplace=True)\n",
    "     "
   ]
  },
  {
   "cell_type": "code",
   "execution_count": 14,
   "metadata": {},
   "outputs": [],
   "source": [
    "df['ORIGIN_AIRPORT'].replace(['ABE','ABI','ABQ','ABR','ABY','ACK','ACT','ACV','ACY','ADK','ADQ','AEX','AGS','AKN','ALB','ALO','AMA','ANC','APN','ASE','ATL','ATW','AUS','AVL','AVP','AZO','BDL','BET','BFL','BGM','BGR','BHM','BIL','BIS','BJI','BLI','BMI','BNA','BOI','BOS','BPT','BQK','BQN','BRD','BRO','BRW','BTM','BTR','BTV','BUF','BUR','BWI','BZN','CAE','CAK','CDC','CDV','CEC','CHA','CHO','CHS','CID','CIU','CLD','CLE','CLL','CLT','CMH','CMI','CMX','CNY','COD','COS','COU','CPR','CRP','CRW','CSG','CVG','CWA','DAB','DAL','DAY','DBQ','DCA','DEN','DFW','DHN','DIK','DLG','DLH','DRO','DSM','DTW','DVL','EAU','ECP','EGE','EKO','ELM','ELP','ERI','ESC','EUG','EVV','EWN','EWR','EYW','FAI','FAR','FAT','FAY','FCA','FLG','FLL','FNT','FSD','FSM','FWA','GCC','GCK','GEG','GFK','GGG','GJT','GNV','GPT','GRB','GRI','GRK','GRR','GSO','GSP','GST','GTF','GTR','GUC','GUM','HDN','HIB','HLN','HNL','HOB','HOU','HPN','HRL','HSV','HYA','HYS','IAD','IAG','IAH','ICT','IDA','ILG','ILM','IMT','IND','INL','ISN','ISP','ITH','ITO','JAC','JAN','JAX','JFK','JLN','JMS','JNU','KOA','KTN','LAN','LAR','LAS','LAW','LAX','LBB','LBE','LCH','LEX','LFT','LGA','LGB','LIH','LIT','LNK','LRD','LSE','LWS','MAF','MBS','MCI','MCO','MDT','MDW','MEI','MEM','MFE','MFR','MGM','MHK','MHT','MIA','MKE','MKG','MLB','MLI','MLU','MMH','MOB','MOT','MQT','MRY','MSN','MSO','MSP','MSY','MTJ','MVY','MYR','OAJ','OAK','OGG','OKC','OMA','OME','ONT','ORD','ORF','ORH','OTH','OTZ','PAH','PBG','PBI','PDX','PHF','PHL','PHX','PIA','PIB','PIH','PIT','PLN','PNS','PPG','PSC','PSE','PSG','PSP','PUB','PVD','PWM','RAP','RDD','RDM','RDU','RHI','RIC','RKS','RNO','ROA','ROC','ROW','RST','RSW','SAF','SAN','SAT','SAV','SBA','SBN','SBP','SCC','SCE','SDF','SEA','SFO','SGF','SGU','SHV','SIT','SJC','SJT','SJU','SLC','SMF','SMX','SNA','SPI','SPS','SRQ','STC','STL','STT','STX','SUN','SUX','SWF','SYR','TLH','TOL','TPA','TRI','TTN','TUL','TUS','TVC','TWF','TXK','TYR','TYS','UST','VEL','VLD','VPS','WRG','WYS','XNA','YAK','YUM','OTHERS'],[0,1,2,3,4,5,6,7,8,9,10,11,12,13,14,15,16,17,18,19,20,21,22,23,24,25,26,27,28,29,30,31,32,33,34,35,36,37,38,39,40,41,42,43,44,45,46,47,48,49,50,51,52,53,54,55,56,57,58,59,60,61,62,63,64,65,66,67,68,69,70,71,72,73,74,75,76,77,78,79,80,81,82,83,84,85,86,87,88,89,90,91,92,93,94,95,96,97,98,99,100,101,102,103,104,105,106,107,108,109,110,111,112,113,114,115,116,117,118,119,120,121,122,123,124,125,126,127,128,129,130,131,132,133,134,135,136,137,138,139,140,141,142,143,144,145,146,147,148,149,150,151,152,153,154,155,156,157,158,159,160,161,162,163,164,165,166,167,168,169,170,171,172,173,174,175,176,177,178,179,180,181,182,183,184,185,186,187,188,189,190,191,192,193,194,195,196,197,198,199,200,201,202,203,204,205,206,207,208,209,210,211,212,213,214,215,216,217,218,219,220,221,222,223,224,225,226,227,228,229,230,231,232,233,234,235,236,237,238,239,240,241,242,243,244,245,246,247,248,249,250,251,252,253,254,255,256,257,258,259,260,261,262,263,264,265,266,267,268,269,270,271,272,273,274,275,276,277,278,279,280,281,282,283,284,285,286,287,288,289,290,291,292,293,294,295,296,297,298,299,300,301,302,303,304,305,306,307,308,309,310,311,312,313,314,315,316,317,318,319,320,321,322],inplace=True)"
   ]
  },
  {
   "cell_type": "code",
   "execution_count": 15,
   "metadata": {},
   "outputs": [],
   "source": [
    "df['DESTINATION_AIRPORT'].replace(['ABE','ABI','ABQ','ABR','ABY','ACK','ACT','ACV','ACY','ADK','ADQ','AEX','AGS','AKN','ALB','ALO','AMA','ANC','APN','ASE','ATL','ATW','AUS','AVL','AVP','AZO','BDL','BET','BFL','BGM','BGR','BHM','BIL','BIS','BJI','BLI','BMI','BNA','BOI','BOS','BPT','BQK','BQN','BRD','BRO','BRW','BTM','BTR','BTV','BUF','BUR','BWI','BZN','CAE','CAK','CDC','CDV','CEC','CHA','CHO','CHS','CID','CIU','CLD','CLE','CLL','CLT','CMH','CMI','CMX','CNY','COD','COS','COU','CPR','CRP','CRW','CSG','CVG','CWA','DAB','DAL','DAY','DBQ','DCA','DEN','DFW','DHN','DIK','DLG','DLH','DRO','DSM','DTW','DVL','EAU','ECP','EGE','EKO','ELM','ELP','ERI','ESC','EUG','EVV','EWN','EWR','EYW','FAI','FAR','FAT','FAY','FCA','FLG','FLL','FNT','FSD','FSM','FWA','GCC','GCK','GEG','GFK','GGG','GJT','GNV','GPT','GRB','GRI','GRK','GRR','GSO','GSP','GST','GTF','GTR','GUC','GUM','HDN','HIB','HLN','HNL','HOB','HOU','HPN','HRL','HSV','HYA','HYS','IAD','IAG','IAH','ICT','IDA','ILG','ILM','IMT','IND','INL','ISN','ISP','ITH','ITO','JAC','JAN','JAX','JFK','JLN','JMS','JNU','KOA','KTN','LAN','LAR','LAS','LAW','LAX','LBB','LBE','LCH','LEX','LFT','LGA','LGB','LIH','LIT','LNK','LRD','LSE','LWS','MAF','MBS','MCI','MCO','MDT','MDW','MEI','MEM','MFE','MFR','MGM','MHK','MHT','MIA','MKE','MKG','MLB','MLI','MLU','MMH','MOB','MOT','MQT','MRY','MSN','MSO','MSP','MSY','MTJ','MVY','MYR','OAJ','OAK','OGG','OKC','OMA','OME','ONT','ORD','ORF','ORH','OTH','OTZ','PAH','PBG','PBI','PDX','PHF','PHL','PHX','PIA','PIB','PIH','PIT','PLN','PNS','PPG','PSC','PSE','PSG','PSP','PUB','PVD','PWM','RAP','RDD','RDM','RDU','RHI','RIC','RKS','RNO','ROA','ROC','ROW','RST','RSW','SAF','SAN','SAT','SAV','SBA','SBN','SBP','SCC','SCE','SDF','SEA','SFO','SGF','SGU','SHV','SIT','SJC','SJT','SJU','SLC','SMF','SMX','SNA','SPI','SPS','SRQ','STC','STL','STT','STX','SUN','SUX','SWF','SYR','TLH','TOL','TPA','TRI','TTN','TUL','TUS','TVC','TWF','TXK','TYR','TYS','UST','VEL','VLD','VPS','WRG','WYS','XNA','YAK','YUM','OTHERS'],[0,1,2,3,4,5,6,7,8,9,10,11,12,13,14,15,16,17,18,19,20,21,22,23,24,25,26,27,28,29,30,31,32,33,34,35,36,37,38,39,40,41,42,43,44,45,46,47,48,49,50,51,52,53,54,55,56,57,58,59,60,61,62,63,64,65,66,67,68,69,70,71,72,73,74,75,76,77,78,79,80,81,82,83,84,85,86,87,88,89,90,91,92,93,94,95,96,97,98,99,100,101,102,103,104,105,106,107,108,109,110,111,112,113,114,115,116,117,118,119,120,121,122,123,124,125,126,127,128,129,130,131,132,133,134,135,136,137,138,139,140,141,142,143,144,145,146,147,148,149,150,151,152,153,154,155,156,157,158,159,160,161,162,163,164,165,166,167,168,169,170,171,172,173,174,175,176,177,178,179,180,181,182,183,184,185,186,187,188,189,190,191,192,193,194,195,196,197,198,199,200,201,202,203,204,205,206,207,208,209,210,211,212,213,214,215,216,217,218,219,220,221,222,223,224,225,226,227,228,229,230,231,232,233,234,235,236,237,238,239,240,241,242,243,244,245,246,247,248,249,250,251,252,253,254,255,256,257,258,259,260,261,262,263,264,265,266,267,268,269,270,271,272,273,274,275,276,277,278,279,280,281,282,283,284,285,286,287,288,289,290,291,292,293,294,295,296,297,298,299,300,301,302,303,304,305,306,307,308,309,310,311,312,313,314,315,316,317,318,319,320,321,322],inplace=True)"
   ]
  },
  {
   "cell_type": "code",
   "execution_count": 16,
   "metadata": {},
   "outputs": [
    {
     "data": {
      "text/plain": [
       "['SCHEDULED_DEPARTURE',\n",
       " 'SCHEDULED_TIME',\n",
       " 'FLIGHT_NUMBER',\n",
       " 'MONTH',\n",
       " 'DAY_OF_WEEK',\n",
       " 'AIRLINE',\n",
       " 'ORIGIN_AIRPORT',\n",
       " 'DESTINATION_AIRPORT']"
      ]
     },
     "execution_count": 16,
     "metadata": {},
     "output_type": "execute_result"
    }
   ],
   "source": [
    "col_num=['SCHEDULED_DEPARTURE','SCHEDULED_TIME','FLIGHT_NUMBER','MONTH','DAY_OF_WEEK','AIRLINE','ORIGIN_AIRPORT','DESTINATION_AIRPORT']\n",
    "col_num"
   ]
  },
  {
   "cell_type": "markdown",
   "metadata": {},
   "source": [
    "df=pd.concat([df,df_cat],axis=1)"
   ]
  },
  {
   "cell_type": "markdown",
   "metadata": {},
   "source": [
    "col_all_cat=list(df_cat.columns)"
   ]
  },
  {
   "cell_type": "code",
   "execution_count": 17,
   "metadata": {},
   "outputs": [
    {
     "data": {
      "text/html": [
       "<div>\n",
       "<style scoped>\n",
       "    .dataframe tbody tr th:only-of-type {\n",
       "        vertical-align: middle;\n",
       "    }\n",
       "\n",
       "    .dataframe tbody tr th {\n",
       "        vertical-align: top;\n",
       "    }\n",
       "\n",
       "    .dataframe thead th {\n",
       "        text-align: right;\n",
       "    }\n",
       "</style>\n",
       "<table border=\"1\" class=\"dataframe\">\n",
       "  <thead>\n",
       "    <tr style=\"text-align: right;\">\n",
       "      <th></th>\n",
       "      <th>SCHEDULED_DEPARTURE</th>\n",
       "      <th>SCHEDULED_TIME</th>\n",
       "      <th>FLIGHT_NUMBER</th>\n",
       "      <th>MONTH</th>\n",
       "      <th>DAY_OF_WEEK</th>\n",
       "      <th>AIRLINE</th>\n",
       "      <th>ORIGIN_AIRPORT</th>\n",
       "      <th>DESTINATION_AIRPORT</th>\n",
       "      <th>OUTPUT_LABEL</th>\n",
       "    </tr>\n",
       "  </thead>\n",
       "  <tbody>\n",
       "    <tr>\n",
       "      <th>284021</th>\n",
       "      <td>1547</td>\n",
       "      <td>60.0</td>\n",
       "      <td>7416</td>\n",
       "      <td>1</td>\n",
       "      <td>1</td>\n",
       "      <td>5</td>\n",
       "      <td>258</td>\n",
       "      <td>216</td>\n",
       "      <td>0</td>\n",
       "    </tr>\n",
       "    <tr>\n",
       "      <th>1179949</th>\n",
       "      <td>1030</td>\n",
       "      <td>85.0</td>\n",
       "      <td>215</td>\n",
       "      <td>3</td>\n",
       "      <td>3</td>\n",
       "      <td>8</td>\n",
       "      <td>222</td>\n",
       "      <td>268</td>\n",
       "      <td>1</td>\n",
       "    </tr>\n",
       "    <tr>\n",
       "      <th>5644237</th>\n",
       "      <td>1535</td>\n",
       "      <td>166.0</td>\n",
       "      <td>425</td>\n",
       "      <td>12</td>\n",
       "      <td>7</td>\n",
       "      <td>9</td>\n",
       "      <td>166</td>\n",
       "      <td>20</td>\n",
       "      <td>0</td>\n",
       "    </tr>\n",
       "    <tr>\n",
       "      <th>1062072</th>\n",
       "      <td>720</td>\n",
       "      <td>195.0</td>\n",
       "      <td>710</td>\n",
       "      <td>3</td>\n",
       "      <td>3</td>\n",
       "      <td>13</td>\n",
       "      <td>278</td>\n",
       "      <td>81</td>\n",
       "      <td>0</td>\n",
       "    </tr>\n",
       "    <tr>\n",
       "      <th>4645319</th>\n",
       "      <td>1045</td>\n",
       "      <td>90.0</td>\n",
       "      <td>3080</td>\n",
       "      <td>10</td>\n",
       "      <td>6</td>\n",
       "      <td>8</td>\n",
       "      <td>322</td>\n",
       "      <td>322</td>\n",
       "      <td>0</td>\n",
       "    </tr>\n",
       "  </tbody>\n",
       "</table>\n",
       "</div>"
      ],
      "text/plain": [
       "         SCHEDULED_DEPARTURE  SCHEDULED_TIME  FLIGHT_NUMBER  MONTH  \\\n",
       "284021                  1547            60.0           7416      1   \n",
       "1179949                 1030            85.0            215      3   \n",
       "5644237                 1535           166.0            425     12   \n",
       "1062072                  720           195.0            710      3   \n",
       "4645319                 1045            90.0           3080     10   \n",
       "\n",
       "         DAY_OF_WEEK  AIRLINE  ORIGIN_AIRPORT  DESTINATION_AIRPORT  \\\n",
       "284021             1        5             258                  216   \n",
       "1179949            3        8             222                  268   \n",
       "5644237            7        9             166                   20   \n",
       "1062072            3       13             278                   81   \n",
       "4645319            6        8             322                  322   \n",
       "\n",
       "         OUTPUT_LABEL  \n",
       "284021              0  \n",
       "1179949             1  \n",
       "5644237             0  \n",
       "1062072             0  \n",
       "4645319             0  "
      ]
     },
     "execution_count": 17,
     "metadata": {},
     "output_type": "execute_result"
    }
   ],
   "source": [
    "col_input=col_num\n",
    "df_data=df[col_input+['OUTPUT_LABEL']]\n",
    "df_data.head()"
   ]
  },
  {
   "cell_type": "code",
   "execution_count": 24,
   "metadata": {},
   "outputs": [
    {
     "name": "stdout",
     "output_type": "stream",
     "text": [
      "ABE   0\n",
      "ABI   1\n",
      "ABQ   2\n",
      "ABR   3\n",
      "ABY   4\n",
      "ACK   5\n",
      "ACT   6\n",
      "ACV   7\n",
      "ACY   8\n",
      "ADK   9\n",
      "ADQ   10\n",
      "AEX   11\n",
      "AGS   12\n",
      "AKN   13\n",
      "ALB   14\n",
      "ALO   15\n",
      "AMA   16\n",
      "ANC   17\n",
      "APN   18\n",
      "ASE   19\n",
      "ATL   20\n",
      "ATW   21\n",
      "AUS   22\n",
      "AVL   23\n",
      "AVP   24\n",
      "AZO   25\n",
      "BDL   26\n",
      "BET   27\n",
      "BFL   28\n",
      "BGM   29\n",
      "BGR   30\n",
      "BHM   31\n",
      "BIL   32\n",
      "BIS   33\n",
      "BJI   34\n",
      "BLI   35\n",
      "BMI   36\n",
      "BNA   37\n",
      "BOI   38\n",
      "BOS   39\n",
      "BPT   40\n",
      "BQK   41\n",
      "BQN   42\n",
      "BRD   43\n",
      "BRO   44\n",
      "BRW   45\n",
      "BTM   46\n",
      "BTR   47\n",
      "BTV   48\n",
      "BUF   49\n",
      "BUR   50\n",
      "BWI   51\n",
      "BZN   52\n",
      "CAE   53\n",
      "CAK   54\n",
      "CDC   55\n",
      "CDV   56\n",
      "CEC   57\n",
      "CHA   58\n",
      "CHO   59\n",
      "CHS   60\n",
      "CID   61\n",
      "CIU   62\n",
      "CLD   63\n",
      "CLE   64\n",
      "CLL   65\n",
      "CLT   66\n",
      "CMH   67\n",
      "CMI   68\n",
      "CMX   69\n",
      "CNY   70\n",
      "COD   71\n",
      "COS   72\n",
      "COU   73\n",
      "CPR   74\n",
      "CRP   75\n",
      "CRW   76\n",
      "CSG   77\n",
      "CVG   78\n",
      "CWA   79\n",
      "DAB   80\n",
      "DAL   81\n",
      "DAY   82\n",
      "DBQ   83\n",
      "DCA   84\n",
      "DEN   85\n",
      "DFW   86\n",
      "DHN   87\n",
      "DIK   88\n",
      "DLG   89\n",
      "DLH   90\n",
      "DRO   91\n",
      "DSM   92\n",
      "DTW   93\n",
      "DVL   94\n",
      "EAU   95\n",
      "ECP   96\n",
      "EGE   97\n",
      "EKO   98\n",
      "ELM   99\n",
      "ELP   100\n",
      "ERI   101\n",
      "ESC   102\n",
      "EUG   103\n",
      "EVV   104\n",
      "EWN   105\n",
      "EWR   106\n",
      "EYW   107\n",
      "FAI   108\n",
      "FAR   109\n",
      "FAT   110\n",
      "FAY   111\n",
      "FCA   112\n",
      "FLG   113\n",
      "FLL   114\n",
      "FNT   115\n",
      "FSD   116\n",
      "FSM   117\n",
      "FWA   118\n",
      "GCC   119\n",
      "GCK   120\n",
      "GEG   121\n",
      "GFK   122\n",
      "GGG   123\n",
      "GJT   124\n",
      "GNV   125\n",
      "GPT   126\n",
      "GRB   127\n",
      "GRI   128\n",
      "GRK   129\n",
      "GRR   130\n",
      "GSO   131\n",
      "GSP   132\n",
      "GST   133\n",
      "GTF   134\n",
      "GTR   135\n",
      "GUC   136\n",
      "GUM   137\n",
      "HDN   138\n",
      "HIB   139\n",
      "HLN   140\n",
      "HNL   141\n",
      "HOB   142\n",
      "HOU   143\n",
      "HPN   144\n",
      "HRL   145\n",
      "HSV   146\n",
      "HYA   147\n",
      "HYS   148\n",
      "IAD   149\n",
      "IAG   150\n",
      "IAH   151\n",
      "ICT   152\n",
      "IDA   153\n",
      "ILG   154\n",
      "ILM   155\n",
      "IMT   156\n",
      "IND   157\n",
      "INL   158\n",
      "ISN   159\n",
      "ISP   160\n",
      "ITH   161\n",
      "ITO   162\n",
      "JAC   163\n",
      "JAN   164\n",
      "JAX   165\n",
      "JFK   166\n",
      "JLN   167\n",
      "JMS   168\n",
      "JNU   169\n",
      "KOA   170\n",
      "KTN   171\n",
      "LAN   172\n",
      "LAR   173\n",
      "LAS   174\n",
      "LAW   175\n",
      "LAX   176\n",
      "LBB   177\n",
      "LBE   178\n",
      "LCH   179\n",
      "LEX   180\n",
      "LFT   181\n",
      "LGA   182\n",
      "LGB   183\n",
      "LIH   184\n",
      "LIT   185\n",
      "LNK   186\n",
      "LRD   187\n",
      "LSE   188\n",
      "LWS   189\n",
      "MAF   190\n",
      "MBS   191\n",
      "MCI   192\n",
      "MCO   193\n",
      "MDT   194\n",
      "MDW   195\n",
      "MEI   196\n",
      "MEM   197\n",
      "MFE   198\n",
      "MFR   199\n",
      "MGM   200\n",
      "MHK   201\n",
      "MHT   202\n",
      "MIA   203\n",
      "MKE   204\n",
      "MKG   205\n",
      "MLB   206\n",
      "MLI   207\n",
      "MLU   208\n",
      "MMH   209\n",
      "MOB   210\n",
      "MOT   211\n",
      "MQT   212\n",
      "MRY   213\n",
      "MSN   214\n",
      "MSO   215\n",
      "MSP   216\n",
      "MSY   217\n",
      "MTJ   218\n",
      "MVY   219\n",
      "MYR   220\n",
      "OAJ   221\n",
      "OAK   222\n",
      "OGG   223\n",
      "OKC   224\n",
      "OMA   225\n",
      "OME   226\n",
      "ONT   227\n",
      "ORD   228\n",
      "ORF   229\n",
      "ORH   230\n",
      "OTH   231\n",
      "OTZ   232\n",
      "PAH   233\n",
      "PBG   234\n",
      "PBI   235\n",
      "PDX   236\n",
      "PHF   237\n",
      "PHL   238\n",
      "PHX   239\n",
      "PIA   240\n",
      "PIB   241\n",
      "PIH   242\n",
      "PIT   243\n",
      "PLN   244\n",
      "PNS   245\n",
      "PPG   246\n",
      "PSC   247\n",
      "PSE   248\n",
      "PSG   249\n",
      "PSP   250\n",
      "PUB   251\n",
      "PVD   252\n",
      "PWM   253\n",
      "RAP   254\n",
      "RDD   255\n",
      "RDM   256\n",
      "RDU   257\n",
      "RHI   258\n",
      "RIC   259\n",
      "RKS   260\n",
      "RNO   261\n",
      "ROA   262\n",
      "ROC   263\n",
      "ROW   264\n",
      "RST   265\n",
      "RSW   266\n",
      "SAF   267\n",
      "SAN   268\n",
      "SAT   269\n",
      "SAV   270\n",
      "SBA   271\n",
      "SBN   272\n",
      "SBP   273\n",
      "SCC   274\n",
      "SCE   275\n",
      "SDF   276\n",
      "SEA   277\n",
      "SFO   278\n",
      "SGF   279\n",
      "SGU   280\n",
      "SHV   281\n",
      "SIT   282\n",
      "SJC   283\n",
      "SJT   284\n",
      "SJU   285\n",
      "SLC   286\n",
      "SMF   287\n",
      "SMX   288\n",
      "SNA   289\n",
      "SPI   290\n",
      "SPS   291\n",
      "SRQ   292\n",
      "STC   293\n",
      "STL   294\n",
      "STT   295\n",
      "STX   296\n",
      "SUN   297\n",
      "SUX   298\n",
      "SWF   299\n",
      "SYR   300\n",
      "TLH   301\n",
      "TOL   302\n",
      "TPA   303\n",
      "TRI   304\n",
      "TTN   305\n",
      "TUL   306\n",
      "TUS   307\n",
      "TVC   308\n",
      "TWF   309\n",
      "TXK   310\n",
      "TYR   311\n",
      "TYS   312\n",
      "UST   313\n",
      "VEL   314\n",
      "VLD   315\n",
      "VPS   316\n",
      "WRG   317\n",
      "WYS   318\n",
      "XNA   319\n",
      "YAK   320\n",
      "YUM   321\n"
     ]
    }
   ],
   "source": [
    "j=0\n",
    "for i in df_airports['IATA_CODE']:\n",
    "    print(i,' ',j)\n",
    "    j+=1"
   ]
  },
  {
   "cell_type": "code",
   "execution_count": 18,
   "metadata": {},
   "outputs": [
    {
     "data": {
      "text/plain": [
       "<matplotlib.axes._subplots.AxesSubplot at 0x203c86f7808>"
      ]
     },
     "execution_count": 18,
     "metadata": {},
     "output_type": "execute_result"
    },
    {
     "data": {
      "image/png": "[encoded data removed]",
      "text/plain": [
       "<Figure size 432x288 with 1 Axes>"
      ]
     },
     "metadata": {
      "needs_background": "light"
     },
     "output_type": "display_data"
    }
   ],
   "source": [
    "import seaborn as sns\n",
    "sns.distplot(df_data['SCHEDULED_DEPARTURE'])"
   ]
  },
  {
   "cell_type": "code",
   "execution_count": 19,
   "metadata": {},
   "outputs": [
    {
     "data": {
      "text/plain": [
       "<matplotlib.axes._subplots.AxesSubplot at 0x203c86e2408>"
      ]
     },
     "execution_count": 19,
     "metadata": {},
     "output_type": "execute_result"
    },
    {
     "data": {
      "image/png": "[encoded data removed]",
      "text/plain": [
       "<Figure size 432x288 with 1 Axes>"
      ]
     },
     "metadata": {
      "needs_background": "light"
     },
     "output_type": "display_data"
    }
   ],
   "source": [
    "sns.distplot(df_data['FLIGHT_NUMBER'])"
   ]
  },
  {
   "cell_type": "code",
   "execution_count": 20,
   "metadata": {},
   "outputs": [],
   "source": [
    "df_data=df_data.sample(n=len(df_data))\n",
    "df_data=df_data.reset_index(drop=True)"
   ]
  },
  {
   "cell_type": "code",
   "execution_count": 21,
   "metadata": {},
   "outputs": [],
   "source": [
    "df_valid_test=df_data.sample(frac=0.30)\n",
    "df_test=df_valid_test.sample(frac=0.5)\n",
    "df_valid=df_valid_test.drop(df_test.index)"
   ]
  },
  {
   "cell_type": "code",
   "execution_count": 22,
   "metadata": {},
   "outputs": [],
   "source": [
    "df_train_all=df_data.drop(df_valid.index)"
   ]
  },
  {
   "cell_type": "code",
   "execution_count": 23,
   "metadata": {},
   "outputs": [
    {
     "name": "stdout",
     "output_type": "stream",
     "text": [
      "Train balanced prevalence n= 186406:0.500\n"
     ]
    }
   ],
   "source": [
    "rowpos=(df_train_all.OUTPUT_LABEL==1)\n",
    "df_train_pos=df_train_all.loc[rowpos]\n",
    "df_train_neg=df_train_all.loc[~rowpos]\n",
    "df_train=pd.concat([df_train_pos,df_train_neg.sample(n=len(df_train_pos))],axis=0)\n",
    "df_train=df_train.sample(n=len(df_train)).reset_index(drop=True)\n",
    "print('Train balanced prevalence n= %d:%.3f'%(len(df_train),cal_prevalence(df_train.OUTPUT_LABEL.values)))"
   ]
  },
  {
   "cell_type": "code",
   "execution_count": 24,
   "metadata": {},
   "outputs": [
    {
     "name": "stdout",
     "output_type": "stream",
     "text": [
      "Training All shapes : (186406, 8)\n",
      "Training shapes : (186406, 8) (186406,)\n",
      "Validation shapes : (45000, 8) (45000,)\n"
     ]
    }
   ],
   "source": [
    "x_train=df_train[col_input].values\n",
    "x_train_all=df_train_all[col_input].values\n",
    "x_valid=df_valid[col_input].values\n",
    "y_train=df_train['OUTPUT_LABEL'].values\n",
    "y_valid=df_valid['OUTPUT_LABEL'].values\n",
    "print('Training All shapes :',x_train.shape)\n",
    "print('Training shapes :',x_train.shape,y_train.shape)\n",
    "print('Validation shapes :',x_valid.shape,y_valid.shape)"
   ]
  },
  {
   "cell_type": "code",
   "execution_count": 25,
   "metadata": {},
   "outputs": [
    {
     "data": {
      "text/plain": [
       "StandardScaler(copy=True, with_mean=True, with_std=True)"
      ]
     },
     "execution_count": 25,
     "metadata": {},
     "output_type": "execute_result"
    }
   ],
   "source": [
    "from sklearn.preprocessing import StandardScaler\n",
    "scaler=StandardScaler()\n",
    "scaler.fit(x_train_all)"
   ]
  },
  {
   "cell_type": "code",
   "execution_count": 26,
   "metadata": {},
   "outputs": [],
   "source": [
    "import pickle\n",
    "scalerfile='scaler.sav'\n",
    "pickle.dump(scaler,open(scalerfile,'wb'))"
   ]
  },
  {
   "cell_type": "code",
   "execution_count": 27,
   "metadata": {},
   "outputs": [],
   "source": [
    "scaler=pickle.load(open(scalerfile,'rb'))"
   ]
  },
  {
   "cell_type": "code",
   "execution_count": 28,
   "metadata": {},
   "outputs": [],
   "source": [
    "x_train_tf=scaler.transform(x_train)\n",
    "x_valid_tf=scaler.transform(x_valid)"
   ]
  },
  {
   "cell_type": "code",
   "execution_count": 29,
   "metadata": {},
   "outputs": [],
   "source": [
    "from sklearn.metrics import roc_auc_score,accuracy_score,precision_score,recall_score\n",
    "def cal_specificity(y_actual,y_pred,thresh):\n",
    "    return sum((y_pred<thresh)&(y_actual==0))/sum(y_actual==0)\n",
    "def print_report(y_actual,y_pred,thresh):\n",
    "    auc=roc_auc_score(y_actual,y_pred)\n",
    "    accuracy=accuracy_score(y_actual,(y_pred>thresh))\n",
    "    precision=precision_score(y_actual,(y_pred>thresh))\n",
    "    #specify=specify_score(y_actual,(y_pred>thresh))\n",
    "    recall=recall_score(y_actual,y_pred,thresh)\n",
    "    print('auc:%.3f'%auc)\n",
    "    print('accuracy:%.3f'%accuracy)\n",
    "    print('precision:%.3f'%precision)\n",
    "    #print('specify:%.3f'%specify)\n",
    "    print('recall:%.3f'%recall)\n",
    "    print('prevalence:%.3f'%cal_prevalence(y_actual))\n",
    "    print(' ')\n",
    "    return auc,accuracy,recall,precision"
   ]
  },
  {
   "cell_type": "code",
   "execution_count": 30,
   "metadata": {},
   "outputs": [],
   "source": [
    "thresh=0.5"
   ]
  },
  {
   "cell_type": "code",
   "execution_count": 31,
   "metadata": {},
   "outputs": [
    {
     "data": {
      "text/html": [
       "<div>\n",
       "<style scoped>\n",
       "    .dataframe tbody tr th:only-of-type {\n",
       "        vertical-align: middle;\n",
       "    }\n",
       "\n",
       "    .dataframe tbody tr th {\n",
       "        vertical-align: top;\n",
       "    }\n",
       "\n",
       "    .dataframe thead th {\n",
       "        text-align: right;\n",
       "    }\n",
       "</style>\n",
       "<table border=\"1\" class=\"dataframe\">\n",
       "  <thead>\n",
       "    <tr style=\"text-align: right;\">\n",
       "      <th></th>\n",
       "      <th>SCHEDULED_DEPARTURE</th>\n",
       "      <th>SCHEDULED_TIME</th>\n",
       "      <th>FLIGHT_NUMBER</th>\n",
       "      <th>MONTH</th>\n",
       "      <th>DAY_OF_WEEK</th>\n",
       "      <th>AIRLINE</th>\n",
       "      <th>ORIGIN_AIRPORT</th>\n",
       "      <th>DESTINATION_AIRPORT</th>\n",
       "      <th>OUTPUT_LABEL</th>\n",
       "    </tr>\n",
       "  </thead>\n",
       "  <tbody>\n",
       "    <tr>\n",
       "      <th>0</th>\n",
       "      <td>745</td>\n",
       "      <td>90.0</td>\n",
       "      <td>2529</td>\n",
       "      <td>7</td>\n",
       "      <td>3</td>\n",
       "      <td>8</td>\n",
       "      <td>289</td>\n",
       "      <td>287</td>\n",
       "      <td>0</td>\n",
       "    </tr>\n",
       "    <tr>\n",
       "      <th>1</th>\n",
       "      <td>2045</td>\n",
       "      <td>235.0</td>\n",
       "      <td>526</td>\n",
       "      <td>1</td>\n",
       "      <td>5</td>\n",
       "      <td>2</td>\n",
       "      <td>157</td>\n",
       "      <td>239</td>\n",
       "      <td>0</td>\n",
       "    </tr>\n",
       "    <tr>\n",
       "      <th>2</th>\n",
       "      <td>1825</td>\n",
       "      <td>70.0</td>\n",
       "      <td>836</td>\n",
       "      <td>3</td>\n",
       "      <td>2</td>\n",
       "      <td>8</td>\n",
       "      <td>261</td>\n",
       "      <td>174</td>\n",
       "      <td>1</td>\n",
       "    </tr>\n",
       "    <tr>\n",
       "      <th>3</th>\n",
       "      <td>1735</td>\n",
       "      <td>65.0</td>\n",
       "      <td>1381</td>\n",
       "      <td>7</td>\n",
       "      <td>5</td>\n",
       "      <td>9</td>\n",
       "      <td>20</td>\n",
       "      <td>146</td>\n",
       "      <td>1</td>\n",
       "    </tr>\n",
       "    <tr>\n",
       "      <th>4</th>\n",
       "      <td>2210</td>\n",
       "      <td>103.0</td>\n",
       "      <td>1898</td>\n",
       "      <td>3</td>\n",
       "      <td>6</td>\n",
       "      <td>2</td>\n",
       "      <td>66</td>\n",
       "      <td>166</td>\n",
       "      <td>1</td>\n",
       "    </tr>\n",
       "  </tbody>\n",
       "</table>\n",
       "</div>"
      ],
      "text/plain": [
       "   SCHEDULED_DEPARTURE  SCHEDULED_TIME  FLIGHT_NUMBER  MONTH  DAY_OF_WEEK  \\\n",
       "0                  745            90.0           2529      7            3   \n",
       "1                 2045           235.0            526      1            5   \n",
       "2                 1825            70.0            836      3            2   \n",
       "3                 1735            65.0           1381      7            5   \n",
       "4                 2210           103.0           1898      3            6   \n",
       "\n",
       "   AIRLINE  ORIGIN_AIRPORT  DESTINATION_AIRPORT  OUTPUT_LABEL  \n",
       "0        8             289                  287             0  \n",
       "1        2             157                  239             0  \n",
       "2        8             261                  174             1  \n",
       "3        9              20                  146             1  \n",
       "4        2              66                  166             1  "
      ]
     },
     "execution_count": 31,
     "metadata": {},
     "output_type": "execute_result"
    }
   ],
   "source": [
    "df_data.head(5)"
   ]
  },
  {
   "cell_type": "code",
   "execution_count": 32,
   "metadata": {},
   "outputs": [
    {
     "data": {
      "text/plain": [
       "LogisticRegression(C=1.0, class_weight=None, dual=False, fit_intercept=True,\n",
       "                   intercept_scaling=1, l1_ratio=None, max_iter=100,\n",
       "                   multi_class='auto', n_jobs=None, penalty='l2',\n",
       "                   random_state=0, solver='lbfgs', tol=0.0001, verbose=0,\n",
       "                   warm_start=False)"
      ]
     },
     "execution_count": 32,
     "metadata": {},
     "output_type": "execute_result"
    }
   ],
   "source": [
    "from sklearn.linear_model import LogisticRegression\n",
    "lr=LogisticRegression(random_state=0)\n",
    "lr.fit(x_train_tf,y_train)\n",
    "lr"
   ]
  },
  {
   "cell_type": "code",
   "execution_count": 33,
   "metadata": {},
   "outputs": [
    {
     "data": {
      "text/plain": [
       "array([1, 0, 1, ..., 1, 1, 1])"
      ]
     },
     "execution_count": 33,
     "metadata": {},
     "output_type": "execute_result"
    }
   ],
   "source": [
    "lr_y_test =lr.predict(x_valid_tf)\n",
    "lr_y_test"
   ]
  },
  {
   "cell_type": "code",
   "execution_count": 34,
   "metadata": {},
   "outputs": [
    {
     "data": {
      "text/plain": [
       "array([0, 1, 0, ..., 0, 1, 1])"
      ]
     },
     "execution_count": 34,
     "metadata": {},
     "output_type": "execute_result"
    }
   ],
   "source": [
    "lr_y_train = lr.predict(x_train_tf)\n",
    "lr_y_train"
   ]
  },
  {
   "cell_type": "code",
   "execution_count": 35,
   "metadata": {},
   "outputs": [
    {
     "data": {
      "text/plain": [
       "0.5943081727901183"
      ]
     },
     "execution_count": 35,
     "metadata": {},
     "output_type": "execute_result"
    }
   ],
   "source": [
    "cal_specificity(y_valid,lr_y_test,thresh)"
   ]
  },
  {
   "cell_type": "code",
   "execution_count": 36,
   "metadata": {},
   "outputs": [
    {
     "name": "stdout",
     "output_type": "stream",
     "text": [
      "auc:0.591\n",
      "accuracy:0.592\n",
      "precision:0.457\n",
      "recall:0.588\n",
      "prevalence:0.367\n",
      " \n"
     ]
    },
    {
     "data": {
      "text/plain": [
       "(0.5914036167834734,\n",
       " 0.5921777777777778,\n",
       " 0.5884990607768285,\n",
       " 0.45654115545527196)"
      ]
     },
     "execution_count": 36,
     "metadata": {},
     "output_type": "execute_result"
    }
   ],
   "source": [
    "print_report(y_valid,lr_y_test,thresh)"
   ]
  },
  {
   "cell_type": "code",
   "execution_count": 37,
   "metadata": {},
   "outputs": [
    {
     "data": {
      "text/plain": [
       "0.5928081714107915"
      ]
     },
     "execution_count": 37,
     "metadata": {},
     "output_type": "execute_result"
    }
   ],
   "source": [
    "lr_accu_train= accuracy_score(y_train,lr_y_train)  #train 98--rs=50  \n",
    "lr_accu_train"
   ]
  },
  {
   "cell_type": "code",
   "execution_count": 38,
   "metadata": {},
   "outputs": [
    {
     "data": {
      "text/plain": [
       "0.5921777777777778"
      ]
     },
     "execution_count": 38,
     "metadata": {},
     "output_type": "execute_result"
    }
   ],
   "source": [
    "lr_accu_test= accuracy_score(y_valid,lr_y_test)  #train 98--rs=50  \n",
    "lr_accu_test"
   ]
  },
  {
   "cell_type": "code",
   "execution_count": 39,
   "metadata": {},
   "outputs": [],
   "source": [
    "from sklearn.model_selection import cross_val_score, cross_val_predict\n",
    "lr_acc = cross_val_score(lr, x_train_tf, y_train, cv=3, scoring='accuracy', n_jobs=-1)\n",
    "lr_proba = cross_val_predict(lr, x_train_tf, y_train, cv=3, method='predict_proba')\n",
    "lr_scores = lr_proba[:, 1]"
   ]
  },
  {
   "cell_type": "code",
   "execution_count": 40,
   "metadata": {},
   "outputs": [],
   "source": [
    "lr_proba = cross_val_predict(lr, x_valid_tf, y_valid, cv=3, method='predict_proba')\n",
    "lr_scores = lr_proba[:, 1]"
   ]
  },
  {
   "cell_type": "code",
   "execution_count": 47,
   "metadata": {},
   "outputs": [],
   "source": [
    "#df_test=pd.read_csv('df_test.csv')\n",
    "x_test=df_test[col_input].values\n",
    "y_test=df_test['OUTPUT_LABEL'].values\n",
    "x_test_tf=scaler.transform(x_test)"
   ]
  },
  {
   "cell_type": "code",
   "execution_count": 48,
   "metadata": {},
   "outputs": [],
   "source": [
    "lr_proba = cross_val_predict(lr, x_test_tf, y_test, cv=3, method='predict_proba')\n",
    "lr_scores = lr_proba[:, 1]"
   ]
  },
  {
   "cell_type": "code",
   "execution_count": 49,
   "metadata": {},
   "outputs": [
    {
     "data": {
      "text/plain": [
       "array([0.5934241 , 0.59306349, 0.59175988])"
      ]
     },
     "execution_count": 49,
     "metadata": {},
     "output_type": "execute_result"
    }
   ],
   "source": [
    "lr_acc"
   ]
  },
  {
   "cell_type": "code",
   "execution_count": 44,
   "metadata": {},
   "outputs": [
    {
     "data": {
      "text/plain": [
       "45000"
      ]
     },
     "execution_count": 44,
     "metadata": {},
     "output_type": "execute_result"
    }
   ],
   "source": [
    "len(lr_scores)"
   ]
  },
  {
   "cell_type": "code",
   "execution_count": 45,
   "metadata": {},
   "outputs": [],
   "source": [
    "#Evaluate model\n",
    "from sklearn.metrics import roc_auc_score,roc_curve\n",
    "def ROC_curve(title, y_train, scores, label=None):\n",
    "    \n",
    "    # calculate the ROC score\n",
    "    fpr, tpr, thresholds = roc_curve(y_train, scores)\n",
    "    print('AUC Score ({}): {:.2f} '.format(title, roc_auc_score(y_train, scores)))\n",
    "\n",
    "    # plot the ROC curve\n",
    "    plt.figure(figsize=(8,6))\n",
    "    plt.plot(fpr, tpr, linewidth=2, label=label, color='b')\n",
    "    plt.xlabel('False Positive Rate', fontsize=16)\n",
    "    plt.ylabel('True Positive Rate', fontsize=16)\n",
    "    plt.title('ROC Curve: {}'.format(title), fontsize=16)\n",
    "    plt.show()"
   ]
  },
  {
   "cell_type": "code",
   "execution_count": 50,
   "metadata": {},
   "outputs": [
    {
     "name": "stdout",
     "output_type": "stream",
     "text": [
      "AUC Score (logistic regression): 0.62 \n"
     ]
    },
    {
     "data": {
      "image/png": "[encoded data removed]",
      "text/plain": [
       "<Figure size 576x432 with 1 Axes>"
      ]
     },
     "metadata": {
      "needs_background": "light"
     },
     "output_type": "display_data"
    }
   ],
   "source": [
    "ROC_curve('logistic regression', y_test,lr_scores)"
   ]
  },
  {
   "cell_type": "code",
   "execution_count": 51,
   "metadata": {},
   "outputs": [
    {
     "data": {
      "text/plain": [
       "DecisionTreeClassifier(ccp_alpha=0.0, class_weight=None, criterion='gini',\n",
       "                       max_depth=10, max_features=None, max_leaf_nodes=None,\n",
       "                       min_impurity_decrease=0.0, min_impurity_split=None,\n",
       "                       min_samples_leaf=1, min_samples_split=2,\n",
       "                       min_weight_fraction_leaf=0.0, presort='deprecated',\n",
       "                       random_state=None, splitter='best')"
      ]
     },
     "execution_count": 51,
     "metadata": {},
     "output_type": "execute_result"
    }
   ],
   "source": [
    "from sklearn.tree import DecisionTreeClassifier\n",
    "tree=DecisionTreeClassifier(max_depth=10)\n",
    "dtc_tree=tree.fit(x_train_tf,y_train)\n",
    "dtc_clf_acc = cross_val_score(dtc_tree, x_train_tf, y_train, cv=3, scoring=\"accuracy\",  n_jobs=-1)\n",
    "dtc_proba = cross_val_predict(dtc_tree, x_train_tf, y_train, cv=3, method='predict_proba')\n",
    "dtc_clf_scores = dtc_proba[:, 1]\n",
    "dtc_tree"
   ]
  },
  {
   "cell_type": "code",
   "execution_count": 52,
   "metadata": {},
   "outputs": [
    {
     "data": {
      "text/plain": [
       "array([1, 0, 0, ..., 1, 0, 1])"
      ]
     },
     "execution_count": 52,
     "metadata": {},
     "output_type": "execute_result"
    }
   ],
   "source": [
    "dtc_y_test =dtc_tree.predict(x_valid_tf)\n",
    "dtc_y_test"
   ]
  },
  {
   "cell_type": "code",
   "execution_count": 53,
   "metadata": {},
   "outputs": [
    {
     "data": {
      "text/plain": [
       "array([0, 1, 0, ..., 1, 1, 1])"
      ]
     },
     "execution_count": 53,
     "metadata": {},
     "output_type": "execute_result"
    }
   ],
   "source": [
    "dtc_y_train = dtc_tree.predict(x_train_tf)\n",
    "dtc_y_train"
   ]
  },
  {
   "cell_type": "code",
   "execution_count": 54,
   "metadata": {},
   "outputs": [
    {
     "data": {
      "text/plain": [
       "0.589851563322455"
      ]
     },
     "execution_count": 54,
     "metadata": {},
     "output_type": "execute_result"
    }
   ],
   "source": [
    "cal_specificity(y_valid,dtc_y_test,thresh)"
   ]
  },
  {
   "cell_type": "code",
   "execution_count": 55,
   "metadata": {},
   "outputs": [
    {
     "name": "stdout",
     "output_type": "stream",
     "text": [
      "auc:0.617\n",
      "accuracy:0.609\n",
      "precision:0.476\n",
      "recall:0.643\n",
      "prevalence:0.367\n",
      " \n"
     ]
    },
    {
     "data": {
      "text/plain": [
       "(0.6165945691544106,\n",
       " 0.6094666666666667,\n",
       " 0.6433375749863661,\n",
       " 0.47599193006052454)"
      ]
     },
     "execution_count": 55,
     "metadata": {},
     "output_type": "execute_result"
    }
   ],
   "source": [
    "print_report(y_valid,dtc_y_test,thresh)"
   ]
  },
  {
   "cell_type": "code",
   "execution_count": 56,
   "metadata": {},
   "outputs": [
    {
     "data": {
      "text/plain": [
       "0.6381017778397691"
      ]
     },
     "execution_count": 56,
     "metadata": {},
     "output_type": "execute_result"
    }
   ],
   "source": [
    "dtc_accu_train= accuracy_score(y_train,dtc_y_train)    \n",
    "dtc_accu_train"
   ]
  },
  {
   "cell_type": "code",
   "execution_count": 57,
   "metadata": {},
   "outputs": [
    {
     "data": {
      "text/plain": [
       "0.6094666666666667"
      ]
     },
     "execution_count": 57,
     "metadata": {},
     "output_type": "execute_result"
    }
   ],
   "source": [
    "dtc_accu_test= accuracy_score(y_valid,dtc_y_test)  #train 98--rs=50  \n",
    "dtc_accu_test"
   ]
  },
  {
   "cell_type": "code",
   "execution_count": 58,
   "metadata": {},
   "outputs": [
    {
     "name": "stdout",
     "output_type": "stream",
     "text": [
      "AUC Score (Decision tree classifier): 0.66 \n"
     ]
    },
    {
     "data": {
      "image/png": "[encoded data removed]",
      "text/plain": [
       "<Figure size 576x432 with 1 Axes>"
      ]
     },
     "metadata": {
      "needs_background": "light"
     },
     "output_type": "display_data"
    }
   ],
   "source": [
    "ROC_curve('Decision tree classifier', y_train,dtc_clf_scores)"
   ]
  },
  {
   "cell_type": "code",
   "execution_count": 59,
   "metadata": {},
   "outputs": [
    {
     "data": {
      "text/plain": [
       "SGDClassifier(alpha=0.1, average=False, class_weight=None, early_stopping=False,\n",
       "              epsilon=0.1, eta0=0.0, fit_intercept=True, l1_ratio=0.15,\n",
       "              learning_rate='optimal', loss='log', max_iter=1000,\n",
       "              n_iter_no_change=5, n_jobs=None, penalty='l2', power_t=0.5,\n",
       "              random_state=None, shuffle=True, tol=0.001,\n",
       "              validation_fraction=0.1, verbose=0, warm_start=False)"
      ]
     },
     "execution_count": 59,
     "metadata": {},
     "output_type": "execute_result"
    }
   ],
   "source": [
    "from sklearn.linear_model import SGDClassifier\n",
    "sgdc=SGDClassifier(loss='log',alpha=0.1)\n",
    "sgdc.fit(x_train_tf,y_train)"
   ]
  },
  {
   "cell_type": "code",
   "execution_count": 60,
   "metadata": {},
   "outputs": [
    {
     "data": {
      "text/plain": [
       "array([1, 0, 1, ..., 1, 1, 0])"
      ]
     },
     "execution_count": 60,
     "metadata": {},
     "output_type": "execute_result"
    }
   ],
   "source": [
    "sgdc_y_test =sgdc.predict(x_valid_tf)\n",
    "sgdc_y_test"
   ]
  },
  {
   "cell_type": "code",
   "execution_count": 61,
   "metadata": {},
   "outputs": [
    {
     "name": "stdout",
     "output_type": "stream",
     "text": [
      "auc:0.592\n",
      "accuracy:0.593\n",
      "precision:0.457\n",
      "recall:0.588\n",
      "prevalence:0.367\n",
      " \n"
     ]
    },
    {
     "data": {
      "text/plain": [
       "(0.592087899339532,\n",
       " 0.5930444444444445,\n",
       " 0.5884990607768285,\n",
       " 0.45737967410756336)"
      ]
     },
     "execution_count": 61,
     "metadata": {},
     "output_type": "execute_result"
    }
   ],
   "source": [
    "print_report(y_valid,sgdc_y_test,thresh)"
   ]
  },
  {
   "cell_type": "code",
   "execution_count": 62,
   "metadata": {},
   "outputs": [],
   "source": [
    "sgdc_proba = cross_val_predict(sgdc, x_train_tf, y_train, cv=3, method='predict_proba')\n",
    "sgdc_scores = sgdc_proba[:, 1]"
   ]
  },
  {
   "cell_type": "code",
   "execution_count": 63,
   "metadata": {},
   "outputs": [
    {
     "name": "stdout",
     "output_type": "stream",
     "text": [
      "AUC Score (SGD classifier): 0.63 \n"
     ]
    },
    {
     "data": {
      "image/png": "[encoded data removed]",
      "text/plain": [
       "<Figure size 576x432 with 1 Axes>"
      ]
     },
     "metadata": {
      "needs_background": "light"
     },
     "output_type": "display_data"
    }
   ],
   "source": [
    "ROC_curve('SGD classifier', y_train,sgdc_scores)"
   ]
  },
  {
   "cell_type": "code",
   "execution_count": 64,
   "metadata": {},
   "outputs": [
    {
     "data": {
      "text/plain": [
       "GaussianNB(priors=None, var_smoothing=1e-09)"
      ]
     },
     "execution_count": 64,
     "metadata": {},
     "output_type": "execute_result"
    }
   ],
   "source": [
    "from sklearn.naive_bayes import GaussianNB\n",
    "nb=GaussianNB()\n",
    "nb.fit(x_train_tf,y_train)"
   ]
  },
  {
   "cell_type": "code",
   "execution_count": 65,
   "metadata": {},
   "outputs": [
    {
     "data": {
      "text/plain": [
       "array([1, 0, 1, ..., 1, 1, 1])"
      ]
     },
     "execution_count": 65,
     "metadata": {},
     "output_type": "execute_result"
    }
   ],
   "source": [
    "nb_y_test =nb.predict(x_valid_tf)\n",
    "nb_y_test"
   ]
  },
  {
   "cell_type": "code",
   "execution_count": 66,
   "metadata": {},
   "outputs": [
    {
     "name": "stdout",
     "output_type": "stream",
     "text": [
      "auc:0.592\n",
      "accuracy:0.589\n",
      "precision:0.454\n",
      "recall:0.607\n",
      "prevalence:0.367\n",
      " \n"
     ]
    },
    {
     "data": {
      "text/plain": [
       "(0.5923995086640802,\n",
       " 0.5885777777777778,\n",
       " 0.6067381688177907,\n",
       " 0.4543721922221718)"
      ]
     },
     "execution_count": 66,
     "metadata": {},
     "output_type": "execute_result"
    }
   ],
   "source": [
    "print_report(y_valid,nb_y_test,thresh)"
   ]
  },
  {
   "cell_type": "code",
   "execution_count": 67,
   "metadata": {},
   "outputs": [],
   "source": [
    "nb_proba = cross_val_predict(nb, x_train_tf, y_train, cv=3, method='predict_proba')\n",
    "nb_scores = nb_proba[:, 1]"
   ]
  },
  {
   "cell_type": "code",
   "execution_count": 68,
   "metadata": {},
   "outputs": [
    {
     "name": "stdout",
     "output_type": "stream",
     "text": [
      "AUC Score (NBclassifier): 0.62 \n"
     ]
    },
    {
     "data": {
      "image/png": "[encoded data removed]",
      "text/plain": [
       "<Figure size 576x432 with 1 Axes>"
      ]
     },
     "metadata": {
      "needs_background": "light"
     },
     "output_type": "display_data"
    }
   ],
   "source": [
    "ROC_curve('NBclassifier', y_train,nb_scores)"
   ]
  },
  {
   "cell_type": "code",
   "execution_count": 69,
   "metadata": {},
   "outputs": [
    {
     "data": {
      "text/plain": [
       "RandomForestClassifier(bootstrap=True, ccp_alpha=0.0, class_weight=None,\n",
       "                       criterion='gini', max_depth=6, max_features='auto',\n",
       "                       max_leaf_nodes=None, max_samples=None,\n",
       "                       min_impurity_decrease=0.0, min_impurity_split=None,\n",
       "                       min_samples_leaf=1, min_samples_split=2,\n",
       "                       min_weight_fraction_leaf=0.0, n_estimators=100,\n",
       "                       n_jobs=None, oob_score=False, random_state=None,\n",
       "                       verbose=0, warm_start=False)"
      ]
     },
     "execution_count": 69,
     "metadata": {},
     "output_type": "execute_result"
    }
   ],
   "source": [
    "from sklearn.ensemble import RandomForestClassifier\n",
    "rf=RandomForestClassifier(max_depth=6)\n",
    "rf.fit(x_train_tf,y_train)"
   ]
  },
  {
   "cell_type": "code",
   "execution_count": 70,
   "metadata": {},
   "outputs": [
    {
     "data": {
      "text/plain": [
       "array([1, 0, 1, ..., 1, 1, 1])"
      ]
     },
     "execution_count": 70,
     "metadata": {},
     "output_type": "execute_result"
    }
   ],
   "source": [
    "rf_y_test =rf.predict(x_valid_tf)\n",
    "rf_y_test"
   ]
  },
  {
   "cell_type": "code",
   "execution_count": 71,
   "metadata": {},
   "outputs": [
    {
     "name": "stdout",
     "output_type": "stream",
     "text": [
      "auc:0.614\n",
      "accuracy:0.596\n",
      "precision:0.465\n",
      "recall:0.681\n",
      "prevalence:0.367\n",
      " \n"
     ]
    },
    {
     "data": {
      "text/plain": [
       "(0.6137451763899129,\n",
       " 0.5958444444444444,\n",
       " 0.6809065018481488,\n",
       " 0.46514612136766287)"
      ]
     },
     "execution_count": 71,
     "metadata": {},
     "output_type": "execute_result"
    }
   ],
   "source": [
    "print_report(y_valid,rf_y_test,thresh)"
   ]
  },
  {
   "cell_type": "code",
   "execution_count": 72,
   "metadata": {},
   "outputs": [],
   "source": [
    "rf_proba = cross_val_predict(rf, x_train_tf, y_train, cv=3, method='predict_proba')\n",
    "rf_scores = rf_proba[:, 1]"
   ]
  },
  {
   "cell_type": "code",
   "execution_count": 73,
   "metadata": {},
   "outputs": [
    {
     "name": "stdout",
     "output_type": "stream",
     "text": [
      "AUC Score (RFclassifier): 0.66 \n"
     ]
    },
    {
     "data": {
      "image/png": "[encoded data removed]",
      "text/plain": [
       "<Figure size 576x432 with 1 Axes>"
      ]
     },
     "metadata": {
      "needs_background": "light"
     },
     "output_type": "display_data"
    }
   ],
   "source": [
    "ROC_curve('RFclassifier', y_train,rf_scores)"
   ]
  },
  {
   "cell_type": "markdown",
   "metadata": {},
   "source": [
    "from sklearn.ensemble import GradientBoostingClassifier\n",
    "gbc=GradientBoostingClassifier(n_estimators=100,max_depth=3,learning_rate=1.0)\n",
    "gbc.fit(x_train_tf,y_train)"
   ]
  },
  {
   "cell_type": "markdown",
   "metadata": {},
   "source": [
    "gbc_y_test =gbc.predict(x_valid_tf)\n",
    "gbc_y_test"
   ]
  },
  {
   "cell_type": "markdown",
   "metadata": {},
   "source": [
    "print_report(y_valid,gbc_y_test,thresh)"
   ]
  },
  {
   "cell_type": "markdown",
   "metadata": {},
   "source": [
    "gbc_proba = cross_val_predict(gbc, x_train_tf, y_train, cv=3, method='predict_proba')\n",
    "gbc_scores = rf_proba[:, 1]"
   ]
  },
  {
   "cell_type": "markdown",
   "metadata": {},
   "source": [
    "ROC_curve('GBCclassifier', y_train,gbc_scores)"
   ]
  },
  {
   "cell_type": "code",
   "execution_count": null,
   "metadata": {},
   "outputs": [],
   "source": [
    "import pickle\n",
    "\n",
    "pickle.dump(lr, open('best_classifier.pkl','wb'))\n",
    "\n",
    "# Loading model to compare the results\n",
    "model = pickle.load(open('best_classifier.pkl','rb'))"
   ]
  },
  {
   "cell_type": "code",
   "execution_count": null,
   "metadata": {},
   "outputs": [],
   "source": [
    "y_train_preds=model.predict_prob(x_train_tf)[:,1]\n",
    "y_valid_preds=model.predict_prob(x_valid_tf)[:,1]\n",
    "y_test_preds=model.predict_prob(x_test_tf)[:,1]"
   ]
  },
  {
   "cell_type": "code",
   "execution_count": 75,
   "metadata": {},
   "outputs": [
    {
     "data": {
      "text/html": [
       "<div>\n",
       "<style scoped>\n",
       "    .dataframe tbody tr th:only-of-type {\n",
       "        vertical-align: middle;\n",
       "    }\n",
       "\n",
       "    .dataframe tbody tr th {\n",
       "        vertical-align: top;\n",
       "    }\n",
       "\n",
       "    .dataframe thead th {\n",
       "        text-align: right;\n",
       "    }\n",
       "</style>\n",
       "<table border=\"1\" class=\"dataframe\">\n",
       "  <thead>\n",
       "    <tr style=\"text-align: right;\">\n",
       "      <th></th>\n",
       "      <th>SCHEDULED_DEPARTURE</th>\n",
       "      <th>SCHEDULED_TIME</th>\n",
       "      <th>FLIGHT_NUMBER</th>\n",
       "      <th>MONTH</th>\n",
       "      <th>DAY_OF_WEEK</th>\n",
       "      <th>AIRLINE</th>\n",
       "      <th>ORIGIN_AIRPORT</th>\n",
       "      <th>DESTINATION_AIRPORT</th>\n",
       "      <th>OUTPUT_LABEL</th>\n",
       "    </tr>\n",
       "  </thead>\n",
       "  <tbody>\n",
       "    <tr>\n",
       "      <th>57583</th>\n",
       "      <td>1335</td>\n",
       "      <td>240.0</td>\n",
       "      <td>653</td>\n",
       "      <td>6</td>\n",
       "      <td>2</td>\n",
       "      <td>6</td>\n",
       "      <td>86</td>\n",
       "      <td>277</td>\n",
       "      <td>1</td>\n",
       "    </tr>\n",
       "    <tr>\n",
       "      <th>288822</th>\n",
       "      <td>820</td>\n",
       "      <td>69.0</td>\n",
       "      <td>2357</td>\n",
       "      <td>3</td>\n",
       "      <td>2</td>\n",
       "      <td>9</td>\n",
       "      <td>93</td>\n",
       "      <td>204</td>\n",
       "      <td>0</td>\n",
       "    </tr>\n",
       "    <tr>\n",
       "      <th>50068</th>\n",
       "      <td>2355</td>\n",
       "      <td>261.0</td>\n",
       "      <td>588</td>\n",
       "      <td>6</td>\n",
       "      <td>7</td>\n",
       "      <td>2</td>\n",
       "      <td>286</td>\n",
       "      <td>238</td>\n",
       "      <td>1</td>\n",
       "    </tr>\n",
       "    <tr>\n",
       "      <th>99130</th>\n",
       "      <td>2030</td>\n",
       "      <td>120.0</td>\n",
       "      <td>1337</td>\n",
       "      <td>7</td>\n",
       "      <td>3</td>\n",
       "      <td>9</td>\n",
       "      <td>286</td>\n",
       "      <td>176</td>\n",
       "      <td>1</td>\n",
       "    </tr>\n",
       "    <tr>\n",
       "      <th>287617</th>\n",
       "      <td>2000</td>\n",
       "      <td>114.0</td>\n",
       "      <td>338</td>\n",
       "      <td>5</td>\n",
       "      <td>5</td>\n",
       "      <td>0</td>\n",
       "      <td>85</td>\n",
       "      <td>86</td>\n",
       "      <td>1</td>\n",
       "    </tr>\n",
       "    <tr>\n",
       "      <th>...</th>\n",
       "      <td>...</td>\n",
       "      <td>...</td>\n",
       "      <td>...</td>\n",
       "      <td>...</td>\n",
       "      <td>...</td>\n",
       "      <td>...</td>\n",
       "      <td>...</td>\n",
       "      <td>...</td>\n",
       "      <td>...</td>\n",
       "    </tr>\n",
       "    <tr>\n",
       "      <th>87973</th>\n",
       "      <td>1110</td>\n",
       "      <td>56.0</td>\n",
       "      <td>416</td>\n",
       "      <td>8</td>\n",
       "      <td>5</td>\n",
       "      <td>6</td>\n",
       "      <td>277</td>\n",
       "      <td>121</td>\n",
       "      <td>1</td>\n",
       "    </tr>\n",
       "    <tr>\n",
       "      <th>288527</th>\n",
       "      <td>2340</td>\n",
       "      <td>211.0</td>\n",
       "      <td>132</td>\n",
       "      <td>6</td>\n",
       "      <td>7</td>\n",
       "      <td>6</td>\n",
       "      <td>108</td>\n",
       "      <td>277</td>\n",
       "      <td>0</td>\n",
       "    </tr>\n",
       "    <tr>\n",
       "      <th>182713</th>\n",
       "      <td>1840</td>\n",
       "      <td>80.0</td>\n",
       "      <td>1966</td>\n",
       "      <td>11</td>\n",
       "      <td>2</td>\n",
       "      <td>8</td>\n",
       "      <td>278</td>\n",
       "      <td>289</td>\n",
       "      <td>0</td>\n",
       "    </tr>\n",
       "    <tr>\n",
       "      <th>17205</th>\n",
       "      <td>555</td>\n",
       "      <td>159.0</td>\n",
       "      <td>6357</td>\n",
       "      <td>8</td>\n",
       "      <td>7</td>\n",
       "      <td>5</td>\n",
       "      <td>252</td>\n",
       "      <td>228</td>\n",
       "      <td>0</td>\n",
       "    </tr>\n",
       "    <tr>\n",
       "      <th>167488</th>\n",
       "      <td>2234</td>\n",
       "      <td>84.0</td>\n",
       "      <td>6453</td>\n",
       "      <td>10</td>\n",
       "      <td>6</td>\n",
       "      <td>5</td>\n",
       "      <td>322</td>\n",
       "      <td>322</td>\n",
       "      <td>1</td>\n",
       "    </tr>\n",
       "  </tbody>\n",
       "</table>\n",
       "<p>45000 rows × 9 columns</p>\n",
       "</div>"
      ],
      "text/plain": [
       "        SCHEDULED_DEPARTURE  SCHEDULED_TIME  FLIGHT_NUMBER  MONTH  \\\n",
       "57583                  1335           240.0            653      6   \n",
       "288822                  820            69.0           2357      3   \n",
       "50068                  2355           261.0            588      6   \n",
       "99130                  2030           120.0           1337      7   \n",
       "287617                 2000           114.0            338      5   \n",
       "...                     ...             ...            ...    ...   \n",
       "87973                  1110            56.0            416      8   \n",
       "288527                 2340           211.0            132      6   \n",
       "182713                 1840            80.0           1966     11   \n",
       "17205                   555           159.0           6357      8   \n",
       "167488                 2234            84.0           6453     10   \n",
       "\n",
       "        DAY_OF_WEEK  AIRLINE  ORIGIN_AIRPORT  DESTINATION_AIRPORT  \\\n",
       "57583             2        6              86                  277   \n",
       "288822            2        9              93                  204   \n",
       "50068             7        2             286                  238   \n",
       "99130             3        9             286                  176   \n",
       "287617            5        0              85                   86   \n",
       "...             ...      ...             ...                  ...   \n",
       "87973             5        6             277                  121   \n",
       "288527            7        6             108                  277   \n",
       "182713            2        8             278                  289   \n",
       "17205             7        5             252                  228   \n",
       "167488            6        5             322                  322   \n",
       "\n",
       "        OUTPUT_LABEL  \n",
       "57583              1  \n",
       "288822             0  \n",
       "50068              1  \n",
       "99130              1  \n",
       "287617             1  \n",
       "...              ...  \n",
       "87973              1  \n",
       "288527             0  \n",
       "182713             0  \n",
       "17205              0  \n",
       "167488             1  \n",
       "\n",
       "[45000 rows x 9 columns]"
      ]
     },
     "execution_count": 75,
     "metadata": {},
     "output_type": "execute_result"
    }
   ],
   "source": [
    "df_test"
   ]
  }
 ],
 "metadata": {
  "kernelspec": {
   "display_name": "Python 3",
   "language": "python",
   "name": "python3"
  },
  "language_info": {
   "codemirror_mode": {
    "name": "ipython",
    "version": 3
   },
   "file_extension": ".py",
   "mimetype": "text/x-python",
   "name": "python",
   "nbconvert_exporter": "python",
   "pygments_lexer": "ipython3",
   "version": "3.7.6"
  }
 },
 "nbformat": 4,
 "nbformat_minor": 4
}
